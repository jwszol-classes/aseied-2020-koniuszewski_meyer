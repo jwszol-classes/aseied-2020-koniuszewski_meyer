{
 "cells": [
  {
   "cell_type": "code",
   "execution_count": 1,
   "id": "4abde26e-79c3-4fbf-8287-cdc8c70d32dd",
   "metadata": {
    "execution": {
     "iopub.execute_input": "2022-09-15T19:33:21.392105Z",
     "iopub.status.busy": "2022-09-15T19:33:21.391836Z",
     "iopub.status.idle": "2022-09-15T19:33:24.557044Z",
     "shell.execute_reply": "2022-09-15T19:33:24.556142Z",
     "shell.execute_reply.started": "2022-09-15T19:33:21.392037Z"
    },
    "tags": []
   },
   "outputs": [
    {
     "name": "stdout",
     "output_type": "stream",
     "text": [
      "Defaulting to user installation because normal site-packages is not writeable\n",
      "Requirement already satisfied: numpy in /mnt/notebook-env/lib/python3.7/site-packages (1.21.5)\n",
      "Defaulting to user installation because normal site-packages is not writeable\n",
      "Requirement already satisfied: requests in /mnt/notebook-env/lib/python3.7/site-packages (2.27.1)\n",
      "Requirement already satisfied: charset-normalizer~=2.0.0 in /mnt/notebook-env/lib/python3.7/site-packages (from requests) (2.0.4)\n",
      "Requirement already satisfied: idna<4,>=2.5 in /mnt/notebook-env/lib/python3.7/site-packages (from requests) (3.3)\n",
      "Requirement already satisfied: certifi>=2017.4.17 in /mnt/notebook-env/lib/python3.7/site-packages (from requests) (2021.10.8)\n",
      "Requirement already satisfied: urllib3<1.27,>=1.21.1 in /mnt/notebook-env/lib/python3.7/site-packages (from requests) (1.25.11)\n",
      "Defaulting to user installation because normal site-packages is not writeable\n",
      "Requirement already satisfied: matplotlib in /home/emr-notebook/.local/lib/python3.7/site-packages (3.5.3)\n",
      "Requirement already satisfied: python-dateutil>=2.7 in /mnt/notebook-env/lib/python3.7/site-packages (from matplotlib) (2.8.2)\n",
      "Requirement already satisfied: pyparsing>=2.2.1 in /mnt/notebook-env/lib/python3.7/site-packages (from matplotlib) (3.0.4)\n",
      "Requirement already satisfied: pillow>=6.2.0 in /mnt/notebook-env/lib/python3.7/site-packages (from matplotlib) (9.0.1)\n",
      "Requirement already satisfied: packaging>=20.0 in /mnt/notebook-env/lib/python3.7/site-packages (from matplotlib) (21.3)\n",
      "Requirement already satisfied: kiwisolver>=1.0.1 in /home/emr-notebook/.local/lib/python3.7/site-packages (from matplotlib) (1.4.4)\n",
      "Requirement already satisfied: cycler>=0.10 in /home/emr-notebook/.local/lib/python3.7/site-packages (from matplotlib) (0.11.0)\n",
      "Requirement already satisfied: fonttools>=4.22.0 in /home/emr-notebook/.local/lib/python3.7/site-packages (from matplotlib) (4.37.2)\n",
      "Requirement already satisfied: numpy>=1.17 in /mnt/notebook-env/lib/python3.7/site-packages (from matplotlib) (1.21.5)\n",
      "Requirement already satisfied: typing-extensions in /mnt/notebook-env/lib/python3.7/site-packages (from kiwisolver>=1.0.1->matplotlib) (4.1.1)\n",
      "Requirement already satisfied: six>=1.5 in /mnt/notebook-env/lib/python3.7/site-packages (from python-dateutil>=2.7->matplotlib) (1.16.0)\n"
     ]
    }
   ],
   "source": [
    "import sys\n",
    "!{sys.executable} -m pip install numpy\n",
    "!{sys.executable} -m pip install requests\n",
    "!{sys.executable} -m pip install matplotlib"
   ]
  },
  {
   "cell_type": "code",
   "execution_count": 58,
   "id": "2e1839f7-23de-4e09-99e3-63b402d59dec",
   "metadata": {
    "execution": {
     "iopub.execute_input": "2022-09-15T20:06:02.739876Z",
     "iopub.status.busy": "2022-09-15T20:06:02.739645Z",
     "iopub.status.idle": "2022-09-15T20:06:02.743781Z",
     "shell.execute_reply": "2022-09-15T20:06:02.743099Z",
     "shell.execute_reply.started": "2022-09-15T20:06:02.739852Z"
    },
    "tags": []
   },
   "outputs": [],
   "source": [
    "import numpy as np\n",
    "import requests\n",
    "import matplotlib.pyplot as plt\n",
    "from io import BytesIO\n",
    "from itertools import product\n",
    "from PIL import Image\n",
    "from typing import Tuple, List\n",
    "from collections import namedtuple\n",
    "from time import time"
   ]
  },
  {
   "cell_type": "code",
   "execution_count": 59,
   "id": "0c22b7c3-66d8-4b5a-b85d-9b85edbe4eb3",
   "metadata": {
    "execution": {
     "iopub.execute_input": "2022-09-15T20:06:03.883417Z",
     "iopub.status.busy": "2022-09-15T20:06:03.883196Z",
     "iopub.status.idle": "2022-09-15T20:06:03.888260Z",
     "shell.execute_reply": "2022-09-15T20:06:03.887582Z",
     "shell.execute_reply.started": "2022-09-15T20:06:03.883394Z"
    },
    "tags": []
   },
   "outputs": [],
   "source": [
    "Tile = namedtuple(\"Tile\", (\"zoom\", \"x\", \"y\"))\n",
    "\n",
    "TEMP_DIR = \"data\"\n",
    "DATASET_URL_FORMAT = \"https://s3.amazonaws.com/elevation-tiles-prod/terrarium\"\n",
    "ZOOM = 5\n",
    "BOUNDS = (72.0, -168.0, -54.0, -25.0)\n",
    "TILE_WIDTH = 256\n",
    "TILE_HEIGHT = 256\n",
    "CHANNELS_NUM = 3\n",
    "RED_CHANNEL_MULTIPLIER = 256\n",
    "GREEN_CHANNEL_MULTIPLIER = 1\n",
    "BLUE_CHANNEL_MULTIPLIER = 1/256\n",
    "INCREMENT_OFFSET = 32768\n",
    "GRADIENT_GROUPS = {\n",
    "    0: 2,\n",
    "    1: 10,\n",
    "    2: 50,\n",
    "    3: 150,\n",
    "    4: 500,\n",
    "    5: 1500\n",
    "}"
   ]
  },
  {
   "cell_type": "code",
   "execution_count": 60,
   "id": "7651d5ff-60ec-4349-8618-bb1e82f90129",
   "metadata": {
    "execution": {
     "iopub.execute_input": "2022-09-15T20:06:04.612187Z",
     "iopub.status.busy": "2022-09-15T20:06:04.611953Z",
     "iopub.status.idle": "2022-09-15T20:06:04.617075Z",
     "shell.execute_reply": "2022-09-15T20:06:04.616385Z",
     "shell.execute_reply.started": "2022-09-15T20:06:04.612162Z"
    },
    "tags": []
   },
   "outputs": [],
   "source": [
    "def mercator(lat: float, lon: float, zoom: int) -> Tuple[int, int, int]:\n",
    "    \"\"\"Convert latitude, longitude to z/x/y tile coordinate at given zoom.\"\"\"\n",
    "    # convert to radians\n",
    "    x1, y1 = lon * np.pi / 180, lat * np.pi / 180\n",
    "\n",
    "    # project to mercator\n",
    "    x2, y2 = x1, np.log(np.tan(0.25 * np.pi + 0.5 * y1))\n",
    "\n",
    "    # transform to tile space\n",
    "    tiles, diameter = 2 ** zoom, 2 * np.pi\n",
    "    x3, y3 = int(tiles * (x2 + np.pi) / diameter), int(tiles * (np.pi - y2) / diameter)\n",
    "\n",
    "    return zoom, x3, y3"
   ]
  },
  {
   "cell_type": "code",
   "execution_count": 61,
   "id": "213d1329-eb5c-4140-a5e9-333c77d29b22",
   "metadata": {
    "execution": {
     "iopub.execute_input": "2022-09-15T20:06:04.849803Z",
     "iopub.status.busy": "2022-09-15T20:06:04.849340Z",
     "iopub.status.idle": "2022-09-15T20:06:04.860246Z",
     "shell.execute_reply": "2022-09-15T20:06:04.859512Z",
     "shell.execute_reply.started": "2022-09-15T20:06:04.849760Z"
    },
    "tags": []
   },
   "outputs": [],
   "source": [
    "def get_tiles(zoom: int, lat1: float, lon1: float, lat2: float, lon2: float) -> List[Tile]:\n",
    "    ''' Convert geographic bounds into a list of tile coordinates at given zoom.'''\n",
    "    # convert to geographic bounding box\n",
    "    minlat, minlon = min(lat1, lat2), min(lon1, lon2)\n",
    "    maxlat, maxlon = max(lat1, lat2), max(lon1, lon2)\n",
    "\n",
    "    # convert to tile-space bounding box\n",
    "    _, xmin, ymin = mercator(maxlat, minlon, zoom)\n",
    "    _, xmax, ymax = mercator(minlat, maxlon, zoom)\n",
    "\n",
    "    # generate a list of tiles\n",
    "    xs, ys = range(xmin, xmax+1), range(ymin, ymax+1)\n",
    "    tiles = [Tile(zoom, x, y) for (y, x) in product(ys, xs)]\n",
    "\n",
    "    return tiles"
   ]
  },
  {
   "cell_type": "code",
   "execution_count": 62,
   "id": "aed861c2-e1a9-4e0d-b519-2939f6082c8e",
   "metadata": {
    "execution": {
     "iopub.execute_input": "2022-09-15T20:06:05.001589Z",
     "iopub.status.busy": "2022-09-15T20:06:05.001331Z",
     "iopub.status.idle": "2022-09-15T20:06:05.006039Z",
     "shell.execute_reply": "2022-09-15T20:06:05.005300Z",
     "shell.execute_reply.started": "2022-09-15T20:06:05.001563Z"
    },
    "tags": []
   },
   "outputs": [],
   "source": [
    "def download(output_dir: str, tiles: List[Tile], verbose=True) -> List[Image]:\n",
    "  '''Downloads map tiles'''\n",
    "  data = []\n",
    "  for tile in tiles:\n",
    "    if verbose:\n",
    "      print(f\"Downloading tile - zoom: {tile.zoom}, x: {tile.x}, y: {tile.y}\")\n",
    "      \n",
    "    response = requests.get(f\"{DATASET_URL_FORMAT}/{tile.zoom}/{tile.x}/{tile.y}.png\")\n",
    "    data.append(Image.open(BytesIO(response.content)))\n",
    "\n",
    "  return data"
   ]
  },
  {
   "cell_type": "code",
   "execution_count": 63,
   "id": "ee879728-85a2-4741-9b8f-21e295ad8772",
   "metadata": {
    "execution": {
     "iopub.execute_input": "2022-09-15T20:06:05.154333Z",
     "iopub.status.busy": "2022-09-15T20:06:05.154106Z",
     "iopub.status.idle": "2022-09-15T20:06:05.158221Z",
     "shell.execute_reply": "2022-09-15T20:06:05.157539Z",
     "shell.execute_reply.started": "2022-09-15T20:06:05.154299Z"
    },
    "tags": []
   },
   "outputs": [],
   "source": [
    "def calculate_elevation(rgb: Tuple[int, int, int]) -> float:\n",
    "  '''Calculates elevation on certain pixel'''\n",
    "  elevation = rgb[0]*RED_CHANNEL_MULTIPLIER + rgb[1]*GREEN_CHANNEL_MULTIPLIER + rgb[2]*BLUE_CHANNEL_MULTIPLIER - INCREMENT_OFFSET\n",
    "  return elevation if elevation > 0 else 0"
   ]
  },
  {
   "cell_type": "code",
   "execution_count": 64,
   "id": "2846dfa7-d260-4515-b52d-2671e1b175fd",
   "metadata": {
    "execution": {
     "iopub.execute_input": "2022-09-15T20:06:05.324314Z",
     "iopub.status.busy": "2022-09-15T20:06:05.324098Z",
     "iopub.status.idle": "2022-09-15T20:06:05.327971Z",
     "shell.execute_reply": "2022-09-15T20:06:05.327337Z",
     "shell.execute_reply.started": "2022-09-15T20:06:05.324291Z"
    },
    "tags": []
   },
   "outputs": [],
   "source": [
    "def get_elevation(tile: np.ndarray) -> np.ndarray:\n",
    "  '''Calculates elevation for whole map tile'''\n",
    "  return np.array([list(map(calculate_elevation, row)) for row in tile])"
   ]
  },
  {
   "cell_type": "code",
   "execution_count": 65,
   "id": "0b1b2a3e-3def-4b27-869c-4586dfab1aae",
   "metadata": {
    "execution": {
     "iopub.execute_input": "2022-09-15T20:06:05.480233Z",
     "iopub.status.busy": "2022-09-15T20:06:05.480012Z",
     "iopub.status.idle": "2022-09-15T20:06:05.484132Z",
     "shell.execute_reply": "2022-09-15T20:06:05.483381Z",
     "shell.execute_reply.started": "2022-09-15T20:06:05.480210Z"
    },
    "tags": []
   },
   "outputs": [],
   "source": [
    "def match_to_group(elevation: float) -> int:\n",
    "  '''Matches pixel elevation to one of 6 groups'''\n",
    "  for group_id, elevation_threshold in GRADIENT_GROUPS.items():\n",
    "    if elevation < elevation_threshold:\n",
    "      return int(group_id)\n",
    "\n",
    "match_to_group_vectorize = np.vectorize(match_to_group)"
   ]
  },
  {
   "cell_type": "code",
   "execution_count": 66,
   "id": "7c38baac-ffbc-4c7f-aa72-f0a9da2a37c4",
   "metadata": {
    "execution": {
     "iopub.execute_input": "2022-09-15T20:06:05.649866Z",
     "iopub.status.busy": "2022-09-15T20:06:05.649624Z",
     "iopub.status.idle": "2022-09-15T20:06:05.653271Z",
     "shell.execute_reply": "2022-09-15T20:06:05.652604Z",
     "shell.execute_reply.started": "2022-09-15T20:06:05.649841Z"
    },
    "tags": []
   },
   "outputs": [],
   "source": [
    "def group_elevation(world_map: np.ndarray) -> np.ndarray:\n",
    "  '''Groups tile elevations'''\n",
    "  return match_to_group_vectorize(world_map)"
   ]
  },
  {
   "cell_type": "code",
   "execution_count": 67,
   "id": "05eccdb1-a91c-4f16-ad0c-8489ff271f12",
   "metadata": {
    "execution": {
     "iopub.execute_input": "2022-09-15T20:06:05.805628Z",
     "iopub.status.busy": "2022-09-15T20:06:05.805403Z",
     "iopub.status.idle": "2022-09-15T20:06:05.809232Z",
     "shell.execute_reply": "2022-09-15T20:06:05.808653Z",
     "shell.execute_reply.started": "2022-09-15T20:06:05.805605Z"
    },
    "tags": []
   },
   "outputs": [],
   "source": [
    "def process_world_map(world_map: np.ndarray) -> np.ndarray:\n",
    "  '''Performs all calculations on world map and returns grouped map'''\n",
    "  elevation_tile = get_elevation(world_map)\n",
    "  grad_tile = np.abs(np.gradient(elevation_tile, axis=0))\n",
    "  return group_elevation(grad_tile)"
   ]
  },
  {
   "cell_type": "code",
   "execution_count": null,
   "id": "ec3f1e6d-618d-42fb-9350-7453072377e1",
   "metadata": {
    "execution": {
     "iopub.execute_input": "2022-09-15T20:06:05.958692Z",
     "iopub.status.busy": "2022-09-15T20:06:05.958453Z",
     "iopub.status.idle": "2022-09-15T20:06:15.108598Z",
     "shell.execute_reply": "2022-09-15T20:06:15.107894Z",
     "shell.execute_reply.started": "2022-09-15T20:06:05.958666Z"
    },
    "tags": [],
    "pycharm": {
     "is_executing": true
    }
   },
   "outputs": [],
   "source": [
    "tiles = get_tiles(ZOOM, *BOUNDS)\n",
    "data = download(output_dir=TEMP_DIR, tiles=tiles)"
   ]
  },
  {
   "cell_type": "code",
   "execution_count": 69,
   "id": "4f96b095-d161-4e0e-addb-363dd9973584",
   "metadata": {
    "execution": {
     "iopub.execute_input": "2022-09-15T20:06:15.109812Z",
     "iopub.status.busy": "2022-09-15T20:06:15.109624Z",
     "iopub.status.idle": "2022-09-15T20:06:15.112680Z",
     "shell.execute_reply": "2022-09-15T20:06:15.112127Z",
     "shell.execute_reply.started": "2022-09-15T20:06:15.109788Z"
    },
    "tags": []
   },
   "outputs": [],
   "source": [
    "start = time()"
   ]
  },
  {
   "cell_type": "code",
   "execution_count": 70,
   "id": "18909b8d-474b-4852-ae2b-a5c885c051f8",
   "metadata": {
    "execution": {
     "iopub.execute_input": "2022-09-15T20:06:15.113929Z",
     "iopub.status.busy": "2022-09-15T20:06:15.113764Z",
     "iopub.status.idle": "2022-09-15T20:06:15.117786Z",
     "shell.execute_reply": "2022-09-15T20:06:15.117301Z",
     "shell.execute_reply.started": "2022-09-15T20:06:15.113909Z"
    },
    "tags": []
   },
   "outputs": [],
   "source": [
    "x_range = max(tiles, key=lambda tile: tile.x).x-min(tiles, key=lambda tile: tile.x).x + 1\n",
    "y_range = max(tiles, key=lambda tile: tile.y).y-min(tiles, key=lambda tile: tile.y).y + 1"
   ]
  },
  {
   "cell_type": "code",
   "execution_count": 71,
   "id": "a71619d3-009b-4f08-a760-a9b617d518fb",
   "metadata": {
    "execution": {
     "iopub.execute_input": "2022-09-15T20:06:15.118944Z",
     "iopub.status.busy": "2022-09-15T20:06:15.118781Z",
     "iopub.status.idle": "2022-09-15T20:06:15.909292Z",
     "shell.execute_reply": "2022-09-15T20:06:15.908733Z",
     "shell.execute_reply.started": "2022-09-15T20:06:15.118924Z"
    },
    "tags": []
   },
   "outputs": [],
   "source": [
    "world_map = np.zeros((y_range*TILE_HEIGHT, x_range*TILE_WIDTH, 3))\n",
    "\n",
    "for x in range(x_range):\n",
    "  for y in range(y_range):\n",
    "    world_map[y*TILE_HEIGHT:(y+1)*TILE_HEIGHT, x*TILE_WIDTH:(x+1)*TILE_WIDTH] = data[y*x_range + x]"
   ]
  },
  {
   "cell_type": "code",
   "execution_count": 72,
   "id": "f7f6c6b2-c7d7-4c7a-b2e5-30f3e2c3e590",
   "metadata": {
    "execution": {
     "iopub.execute_input": "2022-09-15T20:06:15.910368Z",
     "iopub.status.busy": "2022-09-15T20:06:15.910173Z",
     "iopub.status.idle": "2022-09-15T20:06:42.625284Z",
     "shell.execute_reply": "2022-09-15T20:06:42.624742Z",
     "shell.execute_reply.started": "2022-09-15T20:06:15.910346Z"
    },
    "tags": []
   },
   "outputs": [],
   "source": [
    "grouped_map = process_world_map(world_map)"
   ]
  },
  {
   "cell_type": "code",
   "execution_count": 73,
   "id": "fa73ec4d-bf4b-486a-8612-4eb7031439ff",
   "metadata": {
    "execution": {
     "iopub.execute_input": "2022-09-15T20:06:42.626606Z",
     "iopub.status.busy": "2022-09-15T20:06:42.626239Z",
     "iopub.status.idle": "2022-09-15T20:06:42.630038Z",
     "shell.execute_reply": "2022-09-15T20:06:42.629402Z",
     "shell.execute_reply.started": "2022-09-15T20:06:42.626570Z"
    },
    "tags": []
   },
   "outputs": [],
   "source": [
    "result = time() - start"
   ]
  },
  {
   "cell_type": "code",
   "execution_count": 74,
   "id": "7d10f2cd-3ee8-41b9-bc6f-70c291f295c9",
   "metadata": {
    "execution": {
     "iopub.execute_input": "2022-09-15T20:06:42.631032Z",
     "iopub.status.busy": "2022-09-15T20:06:42.630869Z",
     "iopub.status.idle": "2022-09-15T20:06:42.635536Z",
     "shell.execute_reply": "2022-09-15T20:06:42.635010Z",
     "shell.execute_reply.started": "2022-09-15T20:06:42.631012Z"
    },
    "tags": []
   },
   "outputs": [
    {
     "data": {
      "text/plain": [
       "27.517189025878906"
      ]
     },
     "execution_count": 74,
     "metadata": {},
     "output_type": "execute_result"
    }
   ],
   "source": [
    "result"
   ]
  },
  {
   "cell_type": "code",
   "execution_count": null,
   "id": "186f8191-743c-4f93-9e95-2d93e3872d69",
   "metadata": {
    "execution": {
     "iopub.execute_input": "2022-09-15T20:06:42.636769Z",
     "iopub.status.busy": "2022-09-15T20:06:42.636614Z",
     "iopub.status.idle": "2022-09-15T20:06:44.048992Z",
     "shell.execute_reply": "2022-09-15T20:06:44.048352Z",
     "shell.execute_reply.started": "2022-09-15T20:06:42.636751Z"
    },
    "tags": [],
    "pycharm": {
     "is_executing": true,
     "name": "#%%\n"
    }
   },
   "outputs": [],
   "source": [
    "plt.imshow(grouped_map, cmap=plt.get_cmap(\"inferno\"))\n",
    "cbar = plt.colorbar()\n",
    "cbar.set_ticks([0.5, 1, 2, 3, 4, 5])\n",
    "cbar.set_ticklabels([\"2\", \"10\", \"50\", \"150\", \"500\", \"1500\"])\n",
    "plt.show()"
   ]
  },
  {
   "cell_type": "markdown",
   "source": [],
   "metadata": {
    "collapsed": false
   }
  }
 ],
 "metadata": {
  "kernelspec": {
   "display_name": "Python 3",
   "language": "python",
   "name": "python3"
  },
  "language_info": {
   "codemirror_mode": {
    "name": "ipython",
    "version": 3
   },
   "file_extension": ".py",
   "mimetype": "text/x-python",
   "name": "python",
   "nbconvert_exporter": "python",
   "pygments_lexer": "ipython3",
   "version": "3.7.7"
  }
 },
 "nbformat": 4,
 "nbformat_minor": 5
}