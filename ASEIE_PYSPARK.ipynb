{
 "cells": [
  {
   "cell_type": "code",
   "execution_count": 1,
   "id": "3a988de7-0a48-42f2-8a10-90eb8d7fd075",
   "metadata": {
    "execution": {
     "iopub.execute_input": "2022-09-15T18:41:27.646373Z",
     "iopub.status.busy": "2022-09-15T18:41:27.646144Z",
     "iopub.status.idle": "2022-09-15T18:42:32.834687Z",
     "shell.execute_reply": "2022-09-15T18:42:32.833982Z",
     "shell.execute_reply.started": "2022-09-15T18:41:27.646349Z"
    }
   },
   "outputs": [
    {
     "data": {
      "application/vnd.jupyter.widget-view+json": {
       "model_id": "3f13635f8a9f447c9d2b6a3c20b655a1",
       "version_major": 2,
       "version_minor": 0
      },
      "text/plain": [
       "VBox()"
      ]
     },
     "metadata": {},
     "output_type": "display_data"
    },
    {
     "name": "stdout",
     "output_type": "stream",
     "text": [
      "Starting Spark application\n"
     ]
    },
    {
     "data": {
      "text/html": [
       "<table>\n",
       "<tr><th>ID</th><th>YARN Application ID</th><th>Kind</th><th>State</th><th>Spark UI</th><th>Driver log</th><th>User</th><th>Current session?</th></tr><tr><td>0</td><td>application_1663266944220_0001</td><td>pyspark</td><td>idle</td><td><a target=\"_blank\" href=\"http://ip-172-31-39-214.ec2.internal:20888/proxy/application_1663266944220_0001/\" class=\"emr-proxy-link\" emr-resource=\"j-2RPKWABAWNIR3\n",
       "\" application-id=\"application_1663266944220_0001\">Link</a></td><td><a target=\"_blank\" href=\"http://ip-172-31-35-111.ec2.internal:8042/node/containerlogs/container_1663266944220_0001_01_000001/livy\" >Link</a></td><td>None</td><td>✔</td></tr></table>"
      ],
      "text/plain": [
       "<IPython.core.display.HTML object>"
      ]
     },
     "metadata": {},
     "output_type": "display_data"
    },
    {
     "data": {
      "application/vnd.jupyter.widget-view+json": {
       "model_id": "",
       "version_major": 2,
       "version_minor": 0
      },
      "text/plain": [
       "FloatProgress(value=0.0, bar_style='info', description='Progress:', layout=Layout(height='25px', width='50%'),…"
      ]
     },
     "metadata": {},
     "output_type": "display_data"
    },
    {
     "name": "stdout",
     "output_type": "stream",
     "text": [
      "SparkSession available as 'spark'.\n"
     ]
    },
    {
     "data": {
      "application/vnd.jupyter.widget-view+json": {
       "model_id": "",
       "version_major": 2,
       "version_minor": 0
      },
      "text/plain": [
       "FloatProgress(value=0.0, bar_style='info', description='Progress:', layout=Layout(height='25px', width='50%'),…"
      ]
     },
     "metadata": {},
     "output_type": "display_data"
    },
    {
     "name": "stdout",
     "output_type": "stream",
     "text": [
      "Collecting pip==22.2.2\n",
      "  Downloading https://files.pythonhosted.org/packages/1f/2c/d9626f045e7b49a6225c6b09257861f24da78f4e5f23af2ddbdf852c99b8/pip-22.2.2-py3-none-any.whl (2.0MB)\n",
      "Installing collected packages: pip\n",
      "  Found existing installation: pip 9.0.1\n",
      "    Uninstalling pip-9.0.1:\n",
      "      Successfully uninstalled pip-9.0.1\n",
      "Successfully installed pip-22.2.2\n",
      "\n",
      "Collecting requests\n",
      "  Downloading requests-2.28.1-py3-none-any.whl (62 kB)\n",
      "     ━━━━━━━━━━━━━━━━━━━━━━━━━━━━━━━━━━━━━━━━ 62.8/62.8 kB 9.6 MB/s eta 0:00:00\n",
      "Collecting urllib3<1.27,>=1.21.1\n",
      "  Downloading urllib3-1.26.12-py2.py3-none-any.whl (140 kB)\n",
      "     ━━━━━━━━━━━━━━━━━━━━━━━━━━━━━━━━━━━━━━ 140.4/140.4 kB 15.1 MB/s eta 0:00:00\n",
      "Collecting charset-normalizer<3,>=2\n",
      "  Downloading charset_normalizer-2.1.1-py3-none-any.whl (39 kB)\n",
      "Collecting certifi>=2017.4.17\n",
      "  Downloading certifi-2022.9.14-py3-none-any.whl (162 kB)\n",
      "     ━━━━━━━━━━━━━━━━━━━━━━━━━━━━━━━━━━━━━━ 162.5/162.5 kB 21.8 MB/s eta 0:00:00\n",
      "Collecting idna<4,>=2.5\n",
      "  Downloading idna-3.4-py3-none-any.whl (61 kB)\n",
      "     ━━━━━━━━━━━━━━━━━━━━━━━━━━━━━━━━━━━━━━━━ 61.5/61.5 kB 13.1 MB/s eta 0:00:00\n",
      "Installing collected packages: urllib3, idna, charset-normalizer, certifi, requests\n",
      "Successfully installed certifi-2022.9.14 charset-normalizer-2.1.1 idna-3.4 requests-2.28.1 urllib3-1.26.12\n",
      "\n",
      "Collecting matplotlib\n",
      "  Downloading matplotlib-3.5.3-cp37-cp37m-manylinux_2_5_x86_64.manylinux1_x86_64.whl (11.2 MB)\n",
      "     ━━━━━━━━━━━━━━━━━━━━━━━━━━━━━━━━━━━━━━━ 11.2/11.2 MB 111.3 MB/s eta 0:00:00\n",
      "Requirement already satisfied: numpy>=1.17 in /usr/local/lib64/python3.7/site-packages (from matplotlib) (1.20.0)\n",
      "Collecting cycler>=0.10\n",
      "  Downloading cycler-0.11.0-py3-none-any.whl (6.4 kB)\n",
      "Collecting fonttools>=4.22.0\n",
      "  Downloading fonttools-4.37.2-py3-none-any.whl (959 kB)\n",
      "     ━━━━━━━━━━━━━━━━━━━━━━━━━━━━━━━━━━━━━━ 959.8/959.8 kB 84.6 MB/s eta 0:00:00\n",
      "Collecting kiwisolver>=1.0.1\n",
      "  Downloading kiwisolver-1.4.4-cp37-cp37m-manylinux_2_5_x86_64.manylinux1_x86_64.whl (1.1 MB)\n",
      "     ━━━━━━━━━━━━━━━━━━━━━━━━━━━━━━━━━━━━━━━━ 1.1/1.1 MB 93.0 MB/s eta 0:00:00\n",
      "Collecting python-dateutil>=2.7\n",
      "  Downloading python_dateutil-2.8.2-py2.py3-none-any.whl (247 kB)\n",
      "     ━━━━━━━━━━━━━━━━━━━━━━━━━━━━━━━━━━━━━━ 247.7/247.7 kB 44.7 MB/s eta 0:00:00\n",
      "Collecting packaging>=20.0\n",
      "  Downloading packaging-21.3-py3-none-any.whl (40 kB)\n",
      "     ━━━━━━━━━━━━━━━━━━━━━━━━━━━━━━━━━━━━━━━━ 40.8/40.8 kB 13.5 MB/s eta 0:00:00\n",
      "Collecting pyparsing>=2.2.1\n",
      "  Downloading pyparsing-3.0.9-py3-none-any.whl (98 kB)\n",
      "     ━━━━━━━━━━━━━━━━━━━━━━━━━━━━━━━━━━━━━━━━ 98.3/98.3 kB 25.0 MB/s eta 0:00:00\n",
      "Collecting pillow>=6.2.0\n",
      "  Downloading Pillow-9.2.0-cp37-cp37m-manylinux_2_17_x86_64.manylinux2014_x86_64.whl (3.1 MB)\n",
      "     ━━━━━━━━━━━━━━━━━━━━━━━━━━━━━━━━━━━━━━━━ 3.1/3.1 MB 93.2 MB/s eta 0:00:00\n",
      "Collecting typing-extensions\n",
      "  Downloading typing_extensions-4.3.0-py3-none-any.whl (25 kB)\n",
      "Requirement already satisfied: six>=1.5 in /usr/local/lib/python3.7/site-packages (from python-dateutil>=2.7->matplotlib) (1.13.0)\n",
      "Installing collected packages: typing-extensions, python-dateutil, pyparsing, pillow, fonttools, cycler, packaging, kiwisolver, matplotlib\n",
      "Successfully installed cycler-0.11.0 fonttools-4.37.2 kiwisolver-1.4.4 matplotlib-3.5.3 packaging-21.3 pillow-9.2.0 pyparsing-3.0.9 python-dateutil-2.8.2 typing-extensions-4.3.0"
     ]
    }
   ],
   "source": [
    "sc.install_pypi_package(\"pip==22.2.2\")\n",
    "sc.install_pypi_package(\"requests\")\n",
    "sc.install_pypi_package(\"matplotlib\")"
   ]
  },
  {
   "cell_type": "code",
   "execution_count": 152,
   "id": "973ed181-7a0a-4c71-95b0-4f5bd7b17c46",
   "metadata": {
    "execution": {
     "iopub.execute_input": "2022-09-15T19:21:52.038006Z",
     "iopub.status.busy": "2022-09-15T19:21:52.037780Z",
     "iopub.status.idle": "2022-09-15T19:21:52.094532Z",
     "shell.execute_reply": "2022-09-15T19:21:52.093992Z",
     "shell.execute_reply.started": "2022-09-15T19:21:52.037982Z"
    },
    "tags": []
   },
   "outputs": [
    {
     "data": {
      "application/vnd.jupyter.widget-view+json": {
       "model_id": "96de76354e5d46aaaacc99d2d084111d",
       "version_major": 2,
       "version_minor": 0
      },
      "text/plain": [
       "VBox()"
      ]
     },
     "metadata": {},
     "output_type": "display_data"
    },
    {
     "data": {
      "application/vnd.jupyter.widget-view+json": {
       "model_id": "",
       "version_major": 2,
       "version_minor": 0
      },
      "text/plain": [
       "FloatProgress(value=0.0, bar_style='info', description='Progress:', layout=Layout(height='25px', width='50%'),…"
      ]
     },
     "metadata": {},
     "output_type": "display_data"
    }
   ],
   "source": [
    "import os\n",
    "import numpy as np\n",
    "import requests\n",
    "import pyspark.sql.functions as F\n",
    "import matplotlib.pyplot as plt\n",
    "from io import BytesIO\n",
    "from itertools import product\n",
    "from PIL import Image\n",
    "from typing import Tuple, List\n",
    "from collections import namedtuple\n",
    "from pyspark.sql import SparkSession\n",
    "from pyspark.sql.types import IntegerType\n",
    "from time import time"
   ]
  },
  {
   "cell_type": "code",
   "execution_count": 182,
   "id": "9e5916e6-025b-467a-8a45-80e559baf5f1",
   "metadata": {
    "execution": {
     "iopub.execute_input": "2022-09-15T19:23:18.761208Z",
     "iopub.status.busy": "2022-09-15T19:23:18.760979Z",
     "iopub.status.idle": "2022-09-15T19:23:18.826694Z",
     "shell.execute_reply": "2022-09-15T19:23:18.826053Z",
     "shell.execute_reply.started": "2022-09-15T19:23:18.761183Z"
    },
    "tags": []
   },
   "outputs": [
    {
     "data": {
      "application/vnd.jupyter.widget-view+json": {
       "model_id": "e05f28bbb1764b798685610e118a3127",
       "version_major": 2,
       "version_minor": 0
      },
      "text/plain": [
       "VBox()"
      ]
     },
     "metadata": {},
     "output_type": "display_data"
    },
    {
     "data": {
      "application/vnd.jupyter.widget-view+json": {
       "model_id": "",
       "version_major": 2,
       "version_minor": 0
      },
      "text/plain": [
       "FloatProgress(value=0.0, bar_style='info', description='Progress:', layout=Layout(height='25px', width='50%'),…"
      ]
     },
     "metadata": {},
     "output_type": "display_data"
    }
   ],
   "source": [
    "Tile = namedtuple(\"Tile\", (\"zoom\", \"x\", \"y\"))\n",
    "\n",
    "TEMP_DIR = \"data\"\n",
    "DATASET_URL_FORMAT = \"s3://elevation-tiles-prod/terrarium\"\n",
    "ZOOM = 3\n",
    "BOUNDS = (72.0, -168.0, -54.0, -25.0)\n",
    "TILE_WIDTH = 256\n",
    "TILE_HEIGHT = 256\n",
    "CHANNELS_NUM = 3\n",
    "RED_CHANNEL_MULTIPLIER = 256\n",
    "GREEN_CHANNEL_MULTIPLIER = 1\n",
    "BLUE_CHANNEL_MULTIPLIER = 1/256\n",
    "INCREMENT_OFFSET = 32768\n",
    "GRADIENT_GROUPS = {\n",
    "    0: 2,\n",
    "    1: 10,\n",
    "    2: 100,\n",
    "    3: 150,\n",
    "    4: 500,\n",
    "    5: 5000\n",
    "}"
   ]
  },
  {
   "cell_type": "code",
   "execution_count": 183,
   "id": "1a2fb910-ad5c-4402-b961-d860009e1997",
   "metadata": {
    "execution": {
     "iopub.execute_input": "2022-09-15T19:23:18.944943Z",
     "iopub.status.busy": "2022-09-15T19:23:18.944693Z",
     "iopub.status.idle": "2022-09-15T19:23:19.016257Z",
     "shell.execute_reply": "2022-09-15T19:23:19.015577Z",
     "shell.execute_reply.started": "2022-09-15T19:23:18.944917Z"
    },
    "tags": []
   },
   "outputs": [
    {
     "data": {
      "application/vnd.jupyter.widget-view+json": {
       "model_id": "eee8f264c075455c8d081f9109aacfaf",
       "version_major": 2,
       "version_minor": 0
      },
      "text/plain": [
       "VBox()"
      ]
     },
     "metadata": {},
     "output_type": "display_data"
    },
    {
     "data": {
      "application/vnd.jupyter.widget-view+json": {
       "model_id": "",
       "version_major": 2,
       "version_minor": 0
      },
      "text/plain": [
       "FloatProgress(value=0.0, bar_style='info', description='Progress:', layout=Layout(height='25px', width='50%'),…"
      ]
     },
     "metadata": {},
     "output_type": "display_data"
    }
   ],
   "source": [
    "def mercator(lat: float, lon: float, zoom: int) -> Tuple[int, int, int]:\n",
    "    \"\"\"Convert latitude, longitude to z/x/y tile coordinate at given zoom.\"\"\"\n",
    "    # convert to radians\n",
    "    x1, y1 = lon * np.pi / 180, lat * np.pi / 180\n",
    "\n",
    "    # project to mercator\n",
    "    x2, y2 = x1, np.log(np.tan(0.25 * np.pi + 0.5 * y1))\n",
    "\n",
    "    # transform to tile space\n",
    "    tiles, diameter = 2 ** zoom, 2 * np.pi\n",
    "    x3, y3 = int(tiles * (x2 + np.pi) / diameter), int(tiles * (np.pi - y2) / diameter)\n",
    "\n",
    "    return zoom, x3, y3"
   ]
  },
  {
   "cell_type": "code",
   "execution_count": 184,
   "id": "483a1393-4151-420f-87b4-73cdd1c4006c",
   "metadata": {
    "execution": {
     "iopub.execute_input": "2022-09-15T19:23:19.106260Z",
     "iopub.status.busy": "2022-09-15T19:23:19.105939Z",
     "iopub.status.idle": "2022-09-15T19:23:19.168460Z",
     "shell.execute_reply": "2022-09-15T19:23:19.167803Z",
     "shell.execute_reply.started": "2022-09-15T19:23:19.106221Z"
    },
    "tags": []
   },
   "outputs": [
    {
     "data": {
      "application/vnd.jupyter.widget-view+json": {
       "model_id": "38d35d29cb3848bdba4d3bf4cfaf5c5b",
       "version_major": 2,
       "version_minor": 0
      },
      "text/plain": [
       "VBox()"
      ]
     },
     "metadata": {},
     "output_type": "display_data"
    },
    {
     "data": {
      "application/vnd.jupyter.widget-view+json": {
       "model_id": "",
       "version_major": 2,
       "version_minor": 0
      },
      "text/plain": [
       "FloatProgress(value=0.0, bar_style='info', description='Progress:', layout=Layout(height='25px', width='50%'),…"
      ]
     },
     "metadata": {},
     "output_type": "display_data"
    }
   ],
   "source": [
    "def get_tiles(zoom: int, lat1: float, lon1: float, lat2: float, lon2: float) -> List[Tile]:\n",
    "    ''' Convert geographic bounds into a list of tile coordinates at given zoom.'''\n",
    "    # convert to geographic bounding box\n",
    "    minlat, minlon = min(lat1, lat2), min(lon1, lon2)\n",
    "    maxlat, maxlon = max(lat1, lat2), max(lon1, lon2)\n",
    "\n",
    "    # convert to tile-space bounding box\n",
    "    _, xmin, ymin = mercator(maxlat, minlon, zoom)\n",
    "    _, xmax, ymax = mercator(minlat, maxlon, zoom)\n",
    "\n",
    "    # generate a list of tiles\n",
    "    xs, ys = range(xmin, xmax+1), range(ymin, ymax+1)\n",
    "    tiles = [Tile(zoom, x, y) for (y, x) in product(ys, xs)]\n",
    "\n",
    "    return tiles"
   ]
  },
  {
   "cell_type": "code",
   "execution_count": 185,
   "id": "2ceb28f0-4a3e-4631-b676-fc417c7d0a24",
   "metadata": {
    "execution": {
     "iopub.execute_input": "2022-09-15T19:23:19.250457Z",
     "iopub.status.busy": "2022-09-15T19:23:19.250189Z",
     "iopub.status.idle": "2022-09-15T19:23:19.325646Z",
     "shell.execute_reply": "2022-09-15T19:23:19.324918Z",
     "shell.execute_reply.started": "2022-09-15T19:23:19.250422Z"
    },
    "tags": []
   },
   "outputs": [
    {
     "data": {
      "application/vnd.jupyter.widget-view+json": {
       "model_id": "6e634d41ade04934bccc70da872b3816",
       "version_major": 2,
       "version_minor": 0
      },
      "text/plain": [
       "VBox()"
      ]
     },
     "metadata": {},
     "output_type": "display_data"
    },
    {
     "data": {
      "application/vnd.jupyter.widget-view+json": {
       "model_id": "",
       "version_major": 2,
       "version_minor": 0
      },
      "text/plain": [
       "FloatProgress(value=0.0, bar_style='info', description='Progress:', layout=Layout(height='25px', width='50%'),…"
      ]
     },
     "metadata": {},
     "output_type": "display_data"
    }
   ],
   "source": [
    "def generate_links(tiles: List[Tile]) -> List[str]:\n",
    "  return [f\"{DATASET_URL_FORMAT}/{tile.zoom}/{tile.x}/{tile.y}.png\" for tile in tiles]"
   ]
  },
  {
   "cell_type": "code",
   "execution_count": 186,
   "id": "daed09cc-5187-4dcf-b58c-16c9f213ef77",
   "metadata": {
    "execution": {
     "iopub.execute_input": "2022-09-15T19:23:19.401050Z",
     "iopub.status.busy": "2022-09-15T19:23:19.400797Z",
     "iopub.status.idle": "2022-09-15T19:23:19.477318Z",
     "shell.execute_reply": "2022-09-15T19:23:19.476754Z",
     "shell.execute_reply.started": "2022-09-15T19:23:19.401025Z"
    },
    "tags": []
   },
   "outputs": [
    {
     "data": {
      "application/vnd.jupyter.widget-view+json": {
       "model_id": "40ab1e47b7114375a8f462c5cf0b94f2",
       "version_major": 2,
       "version_minor": 0
      },
      "text/plain": [
       "VBox()"
      ]
     },
     "metadata": {},
     "output_type": "display_data"
    },
    {
     "data": {
      "application/vnd.jupyter.widget-view+json": {
       "model_id": "",
       "version_major": 2,
       "version_minor": 0
      },
      "text/plain": [
       "FloatProgress(value=0.0, bar_style='info', description='Progress:', layout=Layout(height='25px', width='50%'),…"
      ]
     },
     "metadata": {},
     "output_type": "display_data"
    }
   ],
   "source": [
    "def calculate_elevation(rgb: Tuple[int, int, int]) -> float:\n",
    "  '''Calculates elevation on certain pixel'''\n",
    "  elevation = rgb[2]*RED_CHANNEL_MULTIPLIER + rgb[1]*GREEN_CHANNEL_MULTIPLIER + rgb[0]*BLUE_CHANNEL_MULTIPLIER - INCREMENT_OFFSET\n",
    "  return elevation if elevation > 0 else 0"
   ]
  },
  {
   "cell_type": "code",
   "execution_count": 187,
   "id": "00c1d235-4427-441d-baa8-bcccb1cc1b78",
   "metadata": {
    "execution": {
     "iopub.execute_input": "2022-09-15T19:23:19.636676Z",
     "iopub.status.busy": "2022-09-15T19:23:19.636350Z",
     "iopub.status.idle": "2022-09-15T19:23:19.723088Z",
     "shell.execute_reply": "2022-09-15T19:23:19.722377Z",
     "shell.execute_reply.started": "2022-09-15T19:23:19.636636Z"
    },
    "tags": []
   },
   "outputs": [
    {
     "data": {
      "application/vnd.jupyter.widget-view+json": {
       "model_id": "56f38017895e4d8c92c22e3bbee4a2ac",
       "version_major": 2,
       "version_minor": 0
      },
      "text/plain": [
       "VBox()"
      ]
     },
     "metadata": {},
     "output_type": "display_data"
    },
    {
     "data": {
      "application/vnd.jupyter.widget-view+json": {
       "model_id": "",
       "version_major": 2,
       "version_minor": 0
      },
      "text/plain": [
       "FloatProgress(value=0.0, bar_style='info', description='Progress:', layout=Layout(height='25px', width='50%'),…"
      ]
     },
     "metadata": {},
     "output_type": "display_data"
    }
   ],
   "source": [
    "def get_elevation(tile: np.ndarray) -> np.ndarray:\n",
    "  '''Calculates elevation for whole map tile'''\n",
    "  return np.array([list(map(calculate_elevation, row)) for row in tile])"
   ]
  },
  {
   "cell_type": "code",
   "execution_count": 188,
   "id": "4bdde5ad-d8b2-4882-8f5d-6c9562af5304",
   "metadata": {
    "execution": {
     "iopub.execute_input": "2022-09-15T19:23:20.002469Z",
     "iopub.status.busy": "2022-09-15T19:23:20.002140Z",
     "iopub.status.idle": "2022-09-15T19:23:20.075845Z",
     "shell.execute_reply": "2022-09-15T19:23:20.075018Z",
     "shell.execute_reply.started": "2022-09-15T19:23:20.002429Z"
    },
    "tags": []
   },
   "outputs": [
    {
     "data": {
      "application/vnd.jupyter.widget-view+json": {
       "model_id": "fa21903831c44a3983bef9bf44f255d2",
       "version_major": 2,
       "version_minor": 0
      },
      "text/plain": [
       "VBox()"
      ]
     },
     "metadata": {},
     "output_type": "display_data"
    },
    {
     "data": {
      "application/vnd.jupyter.widget-view+json": {
       "model_id": "",
       "version_major": 2,
       "version_minor": 0
      },
      "text/plain": [
       "FloatProgress(value=0.0, bar_style='info', description='Progress:', layout=Layout(height='25px', width='50%'),…"
      ]
     },
     "metadata": {},
     "output_type": "display_data"
    }
   ],
   "source": [
    "def match_to_group(elevation: float) -> int:\n",
    "  '''Matches pixel elevation to one of 6 groups'''\n",
    "  for group_id, elevation_treshold in GRADIENT_GROUPS.items():\n",
    "    if elevation < elevation_treshold:\n",
    "      return int(group_id)"
   ]
  },
  {
   "cell_type": "code",
   "execution_count": 189,
   "id": "65f602a8-16e9-4f53-b229-fb1080709686",
   "metadata": {
    "execution": {
     "iopub.execute_input": "2022-09-15T19:23:20.077703Z",
     "iopub.status.busy": "2022-09-15T19:23:20.077273Z",
     "iopub.status.idle": "2022-09-15T19:23:20.141303Z",
     "shell.execute_reply": "2022-09-15T19:23:20.140637Z",
     "shell.execute_reply.started": "2022-09-15T19:23:20.077665Z"
    },
    "tags": []
   },
   "outputs": [
    {
     "data": {
      "application/vnd.jupyter.widget-view+json": {
       "model_id": "8d42b9a4710c4d87a5cf8cc9a73491ae",
       "version_major": 2,
       "version_minor": 0
      },
      "text/plain": [
       "VBox()"
      ]
     },
     "metadata": {},
     "output_type": "display_data"
    },
    {
     "data": {
      "application/vnd.jupyter.widget-view+json": {
       "model_id": "",
       "version_major": 2,
       "version_minor": 0
      },
      "text/plain": [
       "FloatProgress(value=0.0, bar_style='info', description='Progress:', layout=Layout(height='25px', width='50%'),…"
      ]
     },
     "metadata": {},
     "output_type": "display_data"
    }
   ],
   "source": [
    "def group_elevation(tile: np.ndarray) -> np.ndarray:\n",
    "  '''Groups tile elevations'''\n",
    "  return np.array([list(map(match_to_group, np.abs(row))) for row in tile[0]])"
   ]
  },
  {
   "cell_type": "code",
   "execution_count": 190,
   "id": "84c99b05-d33f-4108-a130-e4f1284ed03c",
   "metadata": {
    "execution": {
     "iopub.execute_input": "2022-09-15T19:23:20.143117Z",
     "iopub.status.busy": "2022-09-15T19:23:20.142711Z",
     "iopub.status.idle": "2022-09-15T19:23:20.264692Z",
     "shell.execute_reply": "2022-09-15T19:23:20.263951Z",
     "shell.execute_reply.started": "2022-09-15T19:23:20.143081Z"
    },
    "tags": []
   },
   "outputs": [
    {
     "data": {
      "application/vnd.jupyter.widget-view+json": {
       "model_id": "e8e834f90dcc4b168d0150d11c7d4852",
       "version_major": 2,
       "version_minor": 0
      },
      "text/plain": [
       "VBox()"
      ]
     },
     "metadata": {},
     "output_type": "display_data"
    },
    {
     "data": {
      "application/vnd.jupyter.widget-view+json": {
       "model_id": "",
       "version_major": 2,
       "version_minor": 0
      },
      "text/plain": [
       "FloatProgress(value=0.0, bar_style='info', description='Progress:', layout=Layout(height='25px', width='50%'),…"
      ]
     },
     "metadata": {},
     "output_type": "display_data"
    }
   ],
   "source": [
    "def get_x_from_image_path(image_path: str) -> int:\n",
    "  cleaned = image_path.replace(f\"{DATASET_URL_FORMAT}/\", \"\").replace(\".png\", \"\")\n",
    "  return int(cleaned.split(\"/\")[1])"
   ]
  },
  {
   "cell_type": "code",
   "execution_count": 191,
   "id": "06f33d36-a525-4f59-ab7b-81ec89af603f",
   "metadata": {
    "execution": {
     "iopub.execute_input": "2022-09-15T19:23:20.266382Z",
     "iopub.status.busy": "2022-09-15T19:23:20.266128Z",
     "iopub.status.idle": "2022-09-15T19:23:20.338324Z",
     "shell.execute_reply": "2022-09-15T19:23:20.337756Z",
     "shell.execute_reply.started": "2022-09-15T19:23:20.266347Z"
    },
    "tags": []
   },
   "outputs": [
    {
     "data": {
      "application/vnd.jupyter.widget-view+json": {
       "model_id": "db8c5ff6d0a44513847c27835047fbf2",
       "version_major": 2,
       "version_minor": 0
      },
      "text/plain": [
       "VBox()"
      ]
     },
     "metadata": {},
     "output_type": "display_data"
    },
    {
     "data": {
      "application/vnd.jupyter.widget-view+json": {
       "model_id": "",
       "version_major": 2,
       "version_minor": 0
      },
      "text/plain": [
       "FloatProgress(value=0.0, bar_style='info', description='Progress:', layout=Layout(height='25px', width='50%'),…"
      ]
     },
     "metadata": {},
     "output_type": "display_data"
    }
   ],
   "source": [
    "def get_y_from_image_path(image_path: str) -> int:\n",
    "  cleaned = image_path.replace(f\"{DATASET_URL_FORMAT}/\", \"\").replace(\".png\", \"\")\n",
    "  return int(cleaned.split(\"/\")[2])"
   ]
  },
  {
   "cell_type": "code",
   "execution_count": 192,
   "id": "0899e9e3-15c1-4c0e-b4bb-35df4b1dcfaa",
   "metadata": {
    "execution": {
     "iopub.execute_input": "2022-09-15T19:23:20.339889Z",
     "iopub.status.busy": "2022-09-15T19:23:20.339513Z",
     "iopub.status.idle": "2022-09-15T19:23:20.416226Z",
     "shell.execute_reply": "2022-09-15T19:23:20.415479Z",
     "shell.execute_reply.started": "2022-09-15T19:23:20.339852Z"
    },
    "tags": []
   },
   "outputs": [
    {
     "data": {
      "application/vnd.jupyter.widget-view+json": {
       "model_id": "3d990fef4eb641d09f55fd179b4fb951",
       "version_major": 2,
       "version_minor": 0
      },
      "text/plain": [
       "VBox()"
      ]
     },
     "metadata": {},
     "output_type": "display_data"
    },
    {
     "data": {
      "application/vnd.jupyter.widget-view+json": {
       "model_id": "",
       "version_major": 2,
       "version_minor": 0
      },
      "text/plain": [
       "FloatProgress(value=0.0, bar_style='info', description='Progress:', layout=Layout(height='25px', width='50%'),…"
      ]
     },
     "metadata": {},
     "output_type": "display_data"
    }
   ],
   "source": [
    "tiles = get_tiles(ZOOM, *BOUNDS)"
   ]
  },
  {
   "cell_type": "code",
   "execution_count": 193,
   "id": "2348f4c8-08f5-4d2f-a0dc-a912e7c006aa",
   "metadata": {
    "execution": {
     "iopub.execute_input": "2022-09-15T19:23:20.417415Z",
     "iopub.status.busy": "2022-09-15T19:23:20.417238Z",
     "iopub.status.idle": "2022-09-15T19:23:20.511873Z",
     "shell.execute_reply": "2022-09-15T19:23:20.511299Z",
     "shell.execute_reply.started": "2022-09-15T19:23:20.417388Z"
    },
    "tags": []
   },
   "outputs": [
    {
     "data": {
      "application/vnd.jupyter.widget-view+json": {
       "model_id": "e1b7a9ff4fa7475b829721e80d4f5469",
       "version_major": 2,
       "version_minor": 0
      },
      "text/plain": [
       "VBox()"
      ]
     },
     "metadata": {},
     "output_type": "display_data"
    },
    {
     "data": {
      "application/vnd.jupyter.widget-view+json": {
       "model_id": "",
       "version_major": 2,
       "version_minor": 0
      },
      "text/plain": [
       "FloatProgress(value=0.0, bar_style='info', description='Progress:', layout=Layout(height='25px', width='50%'),…"
      ]
     },
     "metadata": {},
     "output_type": "display_data"
    }
   ],
   "source": [
    "data_urls = generate_links(tiles)"
   ]
  },
  {
   "cell_type": "code",
   "execution_count": 194,
   "id": "d9f6b6d7-b054-4d7b-a7e3-9aab7f2cd683",
   "metadata": {
    "execution": {
     "iopub.execute_input": "2022-09-15T19:23:20.513005Z",
     "iopub.status.busy": "2022-09-15T19:23:20.512683Z",
     "iopub.status.idle": "2022-09-15T19:23:21.316940Z",
     "shell.execute_reply": "2022-09-15T19:23:21.316158Z",
     "shell.execute_reply.started": "2022-09-15T19:23:20.512977Z"
    },
    "tags": []
   },
   "outputs": [
    {
     "data": {
      "application/vnd.jupyter.widget-view+json": {
       "model_id": "d346edf0d9d0460196d6cd83b9fb8d6f",
       "version_major": 2,
       "version_minor": 0
      },
      "text/plain": [
       "VBox()"
      ]
     },
     "metadata": {},
     "output_type": "display_data"
    },
    {
     "data": {
      "application/vnd.jupyter.widget-view+json": {
       "model_id": "",
       "version_major": 2,
       "version_minor": 0
      },
      "text/plain": [
       "FloatProgress(value=0.0, bar_style='info', description='Progress:', layout=Layout(height='25px', width='50%'),…"
      ]
     },
     "metadata": {},
     "output_type": "display_data"
    }
   ],
   "source": [
    "df = spark.read.format(\"image\").load(data_urls)"
   ]
  },
  {
   "cell_type": "code",
   "execution_count": 195,
   "id": "5b0aaa63-e362-4b9c-9ce7-dbcebe55ba8a",
   "metadata": {
    "execution": {
     "iopub.execute_input": "2022-09-15T19:23:21.320498Z",
     "iopub.status.busy": "2022-09-15T19:23:21.320195Z",
     "iopub.status.idle": "2022-09-15T19:23:21.391599Z",
     "shell.execute_reply": "2022-09-15T19:23:21.390876Z",
     "shell.execute_reply.started": "2022-09-15T19:23:21.320457Z"
    },
    "tags": []
   },
   "outputs": [
    {
     "data": {
      "application/vnd.jupyter.widget-view+json": {
       "model_id": "5c34b202d2a14835b1da3dc2dd495086",
       "version_major": 2,
       "version_minor": 0
      },
      "text/plain": [
       "VBox()"
      ]
     },
     "metadata": {},
     "output_type": "display_data"
    },
    {
     "data": {
      "application/vnd.jupyter.widget-view+json": {
       "model_id": "",
       "version_major": 2,
       "version_minor": 0
      },
      "text/plain": [
       "FloatProgress(value=0.0, bar_style='info', description='Progress:', layout=Layout(height='25px', width='50%'),…"
      ]
     },
     "metadata": {},
     "output_type": "display_data"
    }
   ],
   "source": [
    "start = time()"
   ]
  },
  {
   "cell_type": "code",
   "execution_count": 196,
   "id": "f04d8d54-56f6-4629-b875-925761ca1dae",
   "metadata": {
    "execution": {
     "iopub.execute_input": "2022-09-15T19:23:21.392963Z",
     "iopub.status.busy": "2022-09-15T19:23:21.392768Z",
     "iopub.status.idle": "2022-09-15T19:23:21.467682Z",
     "shell.execute_reply": "2022-09-15T19:23:21.467084Z",
     "shell.execute_reply.started": "2022-09-15T19:23:21.392938Z"
    },
    "tags": []
   },
   "outputs": [
    {
     "data": {
      "application/vnd.jupyter.widget-view+json": {
       "model_id": "10b62a6540b64d7dad064927a4b38295",
       "version_major": 2,
       "version_minor": 0
      },
      "text/plain": [
       "VBox()"
      ]
     },
     "metadata": {},
     "output_type": "display_data"
    },
    {
     "data": {
      "application/vnd.jupyter.widget-view+json": {
       "model_id": "",
       "version_major": 2,
       "version_minor": 0
      },
      "text/plain": [
       "FloatProgress(value=0.0, bar_style='info', description='Progress:', layout=Layout(height='25px', width='50%'),…"
      ]
     },
     "metadata": {},
     "output_type": "display_data"
    }
   ],
   "source": [
    "df = df.select(\"image.origin\", \"image.data\")"
   ]
  },
  {
   "cell_type": "code",
   "execution_count": 197,
   "id": "05638e68-2b1d-471e-9082-6153e84c7b3e",
   "metadata": {
    "execution": {
     "iopub.execute_input": "2022-09-15T19:23:21.468796Z",
     "iopub.status.busy": "2022-09-15T19:23:21.468552Z",
     "iopub.status.idle": "2022-09-15T19:23:21.745994Z",
     "shell.execute_reply": "2022-09-15T19:23:21.745233Z",
     "shell.execute_reply.started": "2022-09-15T19:23:21.468771Z"
    },
    "tags": []
   },
   "outputs": [
    {
     "data": {
      "application/vnd.jupyter.widget-view+json": {
       "model_id": "5cf3adb715364166ab4f786276c70ccc",
       "version_major": 2,
       "version_minor": 0
      },
      "text/plain": [
       "VBox()"
      ]
     },
     "metadata": {},
     "output_type": "display_data"
    },
    {
     "data": {
      "application/vnd.jupyter.widget-view+json": {
       "model_id": "",
       "version_major": 2,
       "version_minor": 0
      },
      "text/plain": [
       "FloatProgress(value=0.0, bar_style='info', description='Progress:', layout=Layout(height='25px', width='50%'),…"
      ]
     },
     "metadata": {},
     "output_type": "display_data"
    }
   ],
   "source": [
    "col_x = F.udf(get_x_from_image_path, IntegerType())\n",
    "col_y = F.udf(get_y_from_image_path, IntegerType())\n",
    "df = df.withColumn(\"x\", col_x(df.origin))\n",
    "df = df.withColumn(\"y\", col_y(df.origin))"
   ]
  },
  {
   "cell_type": "code",
   "execution_count": 198,
   "id": "81d91e45-f602-439f-bc65-61ea9750fa92",
   "metadata": {
    "execution": {
     "iopub.execute_input": "2022-09-15T19:23:21.747832Z",
     "iopub.status.busy": "2022-09-15T19:23:21.747215Z",
     "iopub.status.idle": "2022-09-15T19:23:21.817069Z",
     "shell.execute_reply": "2022-09-15T19:23:21.816418Z",
     "shell.execute_reply.started": "2022-09-15T19:23:21.747791Z"
    },
    "tags": []
   },
   "outputs": [
    {
     "data": {
      "application/vnd.jupyter.widget-view+json": {
       "model_id": "f701f5056bb44714ac28d11e2ba0d224",
       "version_major": 2,
       "version_minor": 0
      },
      "text/plain": [
       "VBox()"
      ]
     },
     "metadata": {},
     "output_type": "display_data"
    },
    {
     "data": {
      "application/vnd.jupyter.widget-view+json": {
       "model_id": "",
       "version_major": 2,
       "version_minor": 0
      },
      "text/plain": [
       "FloatProgress(value=0.0, bar_style='info', description='Progress:', layout=Layout(height='25px', width='50%'),…"
      ]
     },
     "metadata": {},
     "output_type": "display_data"
    }
   ],
   "source": [
    "df = df.orderBy(F.col(\"x\").asc(), F.col(\"y\").asc())"
   ]
  },
  {
   "cell_type": "code",
   "execution_count": 199,
   "id": "fc85ac84-b105-40a7-98bc-639f7f89f360",
   "metadata": {
    "execution": {
     "iopub.execute_input": "2022-09-15T19:23:21.819012Z",
     "iopub.status.busy": "2022-09-15T19:23:21.818642Z",
     "iopub.status.idle": "2022-09-15T19:23:22.107390Z",
     "shell.execute_reply": "2022-09-15T19:23:22.106569Z",
     "shell.execute_reply.started": "2022-09-15T19:23:21.818976Z"
    },
    "tags": []
   },
   "outputs": [
    {
     "data": {
      "application/vnd.jupyter.widget-view+json": {
       "model_id": "a04b693ec5694132ab22610a0a5b53c5",
       "version_major": 2,
       "version_minor": 0
      },
      "text/plain": [
       "VBox()"
      ]
     },
     "metadata": {},
     "output_type": "display_data"
    },
    {
     "data": {
      "application/vnd.jupyter.widget-view+json": {
       "model_id": "",
       "version_major": 2,
       "version_minor": 0
      },
      "text/plain": [
       "FloatProgress(value=0.0, bar_style='info', description='Progress:', layout=Layout(height='25px', width='50%'),…"
      ]
     },
     "metadata": {},
     "output_type": "display_data"
    }
   ],
   "source": [
    "df_images = df.select(\"data\")"
   ]
  },
  {
   "cell_type": "code",
   "execution_count": 200,
   "id": "c376efdf-fccf-40d7-8043-d952a2b64914",
   "metadata": {
    "execution": {
     "iopub.execute_input": "2022-09-15T19:23:22.109070Z",
     "iopub.status.busy": "2022-09-15T19:23:22.108828Z",
     "iopub.status.idle": "2022-09-15T19:23:22.171173Z",
     "shell.execute_reply": "2022-09-15T19:23:22.170627Z",
     "shell.execute_reply.started": "2022-09-15T19:23:22.109037Z"
    },
    "tags": []
   },
   "outputs": [
    {
     "data": {
      "application/vnd.jupyter.widget-view+json": {
       "model_id": "cbd8615c05a6459a8b1ab00c2fda038a",
       "version_major": 2,
       "version_minor": 0
      },
      "text/plain": [
       "VBox()"
      ]
     },
     "metadata": {},
     "output_type": "display_data"
    },
    {
     "data": {
      "application/vnd.jupyter.widget-view+json": {
       "model_id": "",
       "version_major": 2,
       "version_minor": 0
      },
      "text/plain": [
       "FloatProgress(value=0.0, bar_style='info', description='Progress:', layout=Layout(height='25px', width='50%'),…"
      ]
     },
     "metadata": {},
     "output_type": "display_data"
    }
   ],
   "source": [
    "# images_count = df_images.count()\n",
    "# tile_rows = df_images.collect()\n",
    "# tiles_arr = [np.reshape(tile_rows[i][0], (TILE_HEIGHT, TILE_WIDTH, CHANNELS_NUM)) for i in range(images_count)]"
   ]
  },
  {
   "cell_type": "code",
   "execution_count": 201,
   "id": "6cea0bcf-90ac-4919-a995-ca98e4fe7e61",
   "metadata": {
    "execution": {
     "iopub.execute_input": "2022-09-15T19:23:22.172426Z",
     "iopub.status.busy": "2022-09-15T19:23:22.172186Z",
     "iopub.status.idle": "2022-09-15T19:23:24.459542Z",
     "shell.execute_reply": "2022-09-15T19:23:24.446198Z",
     "shell.execute_reply.started": "2022-09-15T19:23:22.172394Z"
    },
    "tags": []
   },
   "outputs": [
    {
     "data": {
      "application/vnd.jupyter.widget-view+json": {
       "model_id": "a65b215a03464ca78c917bf30e934dd5",
       "version_major": 2,
       "version_minor": 0
      },
      "text/plain": [
       "VBox()"
      ]
     },
     "metadata": {},
     "output_type": "display_data"
    },
    {
     "data": {
      "application/vnd.jupyter.widget-view+json": {
       "model_id": "",
       "version_major": 2,
       "version_minor": 0
      },
      "text/plain": [
       "FloatProgress(value=0.0, bar_style='info', description='Progress:', layout=Layout(height='25px', width='50%'),…"
      ]
     },
     "metadata": {},
     "output_type": "display_data"
    }
   ],
   "source": [
    "tiles_rdd = df_images.rdd.map(lambda img: np.reshape(img, (TILE_HEIGHT, TILE_WIDTH, CHANNELS_NUM)))"
   ]
  },
  {
   "cell_type": "code",
   "execution_count": 202,
   "id": "d44dbcbe-04d3-4c13-b265-fecbce9c0cf3",
   "metadata": {
    "execution": {
     "iopub.execute_input": "2022-09-15T19:23:24.462078Z",
     "iopub.status.busy": "2022-09-15T19:23:24.461681Z",
     "iopub.status.idle": "2022-09-15T19:23:24.627043Z",
     "shell.execute_reply": "2022-09-15T19:23:24.602095Z",
     "shell.execute_reply.started": "2022-09-15T19:23:24.462039Z"
    },
    "tags": []
   },
   "outputs": [
    {
     "data": {
      "application/vnd.jupyter.widget-view+json": {
       "model_id": "4a8d24f2deca42e1b99fe78c54ef0b45",
       "version_major": 2,
       "version_minor": 0
      },
      "text/plain": [
       "VBox()"
      ]
     },
     "metadata": {},
     "output_type": "display_data"
    },
    {
     "data": {
      "application/vnd.jupyter.widget-view+json": {
       "model_id": "",
       "version_major": 2,
       "version_minor": 0
      },
      "text/plain": [
       "FloatProgress(value=0.0, bar_style='info', description='Progress:', layout=Layout(height='25px', width='50%'),…"
      ]
     },
     "metadata": {},
     "output_type": "display_data"
    }
   ],
   "source": [
    "elevation_tiles = tiles_rdd.map(get_elevation)"
   ]
  },
  {
   "cell_type": "code",
   "execution_count": 203,
   "id": "dd2dcce9-68c5-417f-89d6-93a5024292ef",
   "metadata": {
    "execution": {
     "iopub.execute_input": "2022-09-15T19:23:24.628489Z",
     "iopub.status.busy": "2022-09-15T19:23:24.628319Z",
     "iopub.status.idle": "2022-09-15T19:23:24.953212Z",
     "shell.execute_reply": "2022-09-15T19:23:24.952595Z",
     "shell.execute_reply.started": "2022-09-15T19:23:24.628468Z"
    },
    "tags": []
   },
   "outputs": [
    {
     "data": {
      "application/vnd.jupyter.widget-view+json": {
       "model_id": "6d939d00c74e457593dfd5507b833a1d",
       "version_major": 2,
       "version_minor": 0
      },
      "text/plain": [
       "VBox()"
      ]
     },
     "metadata": {},
     "output_type": "display_data"
    },
    {
     "data": {
      "application/vnd.jupyter.widget-view+json": {
       "model_id": "",
       "version_major": 2,
       "version_minor": 0
      },
      "text/plain": [
       "FloatProgress(value=0.0, bar_style='info', description='Progress:', layout=Layout(height='25px', width='50%'),…"
      ]
     },
     "metadata": {},
     "output_type": "display_data"
    }
   ],
   "source": [
    "grad_arr = elevation_tiles.map(np.gradient)"
   ]
  },
  {
   "cell_type": "code",
   "execution_count": 204,
   "id": "d7aa6072-27ea-439e-9e9e-80cfac6adfc6",
   "metadata": {
    "execution": {
     "iopub.execute_input": "2022-09-15T19:23:24.954264Z",
     "iopub.status.busy": "2022-09-15T19:23:24.954089Z",
     "iopub.status.idle": "2022-09-15T19:23:30.245857Z",
     "shell.execute_reply": "2022-09-15T19:23:30.245170Z",
     "shell.execute_reply.started": "2022-09-15T19:23:24.954234Z"
    },
    "tags": []
   },
   "outputs": [
    {
     "data": {
      "application/vnd.jupyter.widget-view+json": {
       "model_id": "797b333b31a74777bde08bc8b5ea291c",
       "version_major": 2,
       "version_minor": 0
      },
      "text/plain": [
       "VBox()"
      ]
     },
     "metadata": {},
     "output_type": "display_data"
    },
    {
     "data": {
      "application/vnd.jupyter.widget-view+json": {
       "model_id": "",
       "version_major": 2,
       "version_minor": 0
      },
      "text/plain": [
       "FloatProgress(value=0.0, bar_style='info', description='Progress:', layout=Layout(height='25px', width='50%'),…"
      ]
     },
     "metadata": {},
     "output_type": "display_data"
    }
   ],
   "source": [
    "grouped_arr = np.asarray(grad_arr.map(group_elevation).collect())"
   ]
  },
  {
   "cell_type": "code",
   "execution_count": 205,
   "id": "cffd7536-1085-4750-bb9e-89d93a127851",
   "metadata": {
    "execution": {
     "iopub.execute_input": "2022-09-15T19:23:30.246904Z",
     "iopub.status.busy": "2022-09-15T19:23:30.246740Z",
     "iopub.status.idle": "2022-09-15T19:23:30.301494Z",
     "shell.execute_reply": "2022-09-15T19:23:30.300947Z",
     "shell.execute_reply.started": "2022-09-15T19:23:30.246882Z"
    },
    "tags": []
   },
   "outputs": [
    {
     "data": {
      "application/vnd.jupyter.widget-view+json": {
       "model_id": "f58fadd17c5f42b098f455999a7c4a7e",
       "version_major": 2,
       "version_minor": 0
      },
      "text/plain": [
       "VBox()"
      ]
     },
     "metadata": {},
     "output_type": "display_data"
    },
    {
     "data": {
      "application/vnd.jupyter.widget-view+json": {
       "model_id": "",
       "version_major": 2,
       "version_minor": 0
      },
      "text/plain": [
       "FloatProgress(value=0.0, bar_style='info', description='Progress:', layout=Layout(height='25px', width='50%'),…"
      ]
     },
     "metadata": {},
     "output_type": "display_data"
    }
   ],
   "source": [
    "x_range = max(tiles, key=lambda tile: tile.x).x-min(tiles, key=lambda tile: tile.x).x + 1\n",
    "y_range = max(tiles, key=lambda tile: tile.y).y-min(tiles, key=lambda tile: tile.y).y + 1"
   ]
  },
  {
   "cell_type": "code",
   "execution_count": 206,
   "id": "e2befc49-22ae-48ef-8746-ca475193557a",
   "metadata": {
    "execution": {
     "iopub.execute_input": "2022-09-15T19:23:30.302535Z",
     "iopub.status.busy": "2022-09-15T19:23:30.302370Z",
     "iopub.status.idle": "2022-09-15T19:23:30.361038Z",
     "shell.execute_reply": "2022-09-15T19:23:30.360242Z",
     "shell.execute_reply.started": "2022-09-15T19:23:30.302514Z"
    },
    "tags": []
   },
   "outputs": [
    {
     "data": {
      "application/vnd.jupyter.widget-view+json": {
       "model_id": "3a9f59fef9a14d6e9c60825c3988bf54",
       "version_major": 2,
       "version_minor": 0
      },
      "text/plain": [
       "VBox()"
      ]
     },
     "metadata": {},
     "output_type": "display_data"
    },
    {
     "data": {
      "application/vnd.jupyter.widget-view+json": {
       "model_id": "",
       "version_major": 2,
       "version_minor": 0
      },
      "text/plain": [
       "FloatProgress(value=0.0, bar_style='info', description='Progress:', layout=Layout(height='25px', width='50%'),…"
      ]
     },
     "metadata": {},
     "output_type": "display_data"
    }
   ],
   "source": [
    "world_map = np.zeros((y_range*TILE_HEIGHT, x_range*TILE_WIDTH))\n",
    "\n",
    "for x in range(x_range):\n",
    "  for y in range(y_range):\n",
    "    world_map[y*TILE_HEIGHT:(y+1)*TILE_HEIGHT, x*TILE_WIDTH:(x+1)*TILE_WIDTH] = grouped_arr[x*(y_range) + y, :, :]"
   ]
  },
  {
   "cell_type": "code",
   "execution_count": 207,
   "id": "a8e7fd04-e28b-40af-8edc-92e72410389c",
   "metadata": {
    "execution": {
     "iopub.execute_input": "2022-09-15T19:23:30.362122Z",
     "iopub.status.busy": "2022-09-15T19:23:30.361957Z",
     "iopub.status.idle": "2022-09-15T19:23:30.415486Z",
     "shell.execute_reply": "2022-09-15T19:23:30.414821Z",
     "shell.execute_reply.started": "2022-09-15T19:23:30.362101Z"
    },
    "tags": []
   },
   "outputs": [
    {
     "data": {
      "application/vnd.jupyter.widget-view+json": {
       "model_id": "8e5ccf52609f43f6867991a2e1b11665",
       "version_major": 2,
       "version_minor": 0
      },
      "text/plain": [
       "VBox()"
      ]
     },
     "metadata": {},
     "output_type": "display_data"
    },
    {
     "data": {
      "application/vnd.jupyter.widget-view+json": {
       "model_id": "",
       "version_major": 2,
       "version_minor": 0
      },
      "text/plain": [
       "FloatProgress(value=0.0, bar_style='info', description='Progress:', layout=Layout(height='25px', width='50%'),…"
      ]
     },
     "metadata": {},
     "output_type": "display_data"
    }
   ],
   "source": [
    "result = time() - start"
   ]
  },
  {
   "cell_type": "code",
   "execution_count": 208,
   "id": "919a94f6-bfcc-4a09-b7ad-3b15d7f5cf44",
   "metadata": {
    "execution": {
     "iopub.execute_input": "2022-09-15T19:23:30.416528Z",
     "iopub.status.busy": "2022-09-15T19:23:30.416371Z",
     "iopub.status.idle": "2022-09-15T19:23:30.474367Z",
     "shell.execute_reply": "2022-09-15T19:23:30.473658Z",
     "shell.execute_reply.started": "2022-09-15T19:23:30.416507Z"
    },
    "tags": []
   },
   "outputs": [
    {
     "data": {
      "application/vnd.jupyter.widget-view+json": {
       "model_id": "773fbb1c4d014051a21f98fad49f9343",
       "version_major": 2,
       "version_minor": 0
      },
      "text/plain": [
       "VBox()"
      ]
     },
     "metadata": {},
     "output_type": "display_data"
    },
    {
     "data": {
      "application/vnd.jupyter.widget-view+json": {
       "model_id": "",
       "version_major": 2,
       "version_minor": 0
      },
      "text/plain": [
       "FloatProgress(value=0.0, bar_style='info', description='Progress:', layout=Layout(height='25px', width='50%'),…"
      ]
     },
     "metadata": {},
     "output_type": "display_data"
    },
    {
     "name": "stdout",
     "output_type": "stream",
     "text": [
      "9.027393341064453"
     ]
    }
   ],
   "source": [
    "result"
   ]
  },
  {
   "cell_type": "code",
   "execution_count": 209,
   "id": "02a097c7-e432-450e-bbe7-68e5ba294fb0",
   "metadata": {
    "execution": {
     "iopub.execute_input": "2022-09-15T19:23:30.475834Z",
     "iopub.status.busy": "2022-09-15T19:23:30.475579Z",
     "iopub.status.idle": "2022-09-15T19:23:31.798465Z",
     "shell.execute_reply": "2022-09-15T19:23:31.797807Z",
     "shell.execute_reply.started": "2022-09-15T19:23:30.475799Z"
    },
    "tags": []
   },
   "outputs": [
    {
     "data": {
      "application/vnd.jupyter.widget-view+json": {
       "model_id": "dc43b534598349adad3f7fb8582a3fb8",
       "version_major": 2,
       "version_minor": 0
      },
      "text/plain": [
       "VBox()"
      ]
     },
     "metadata": {},
     "output_type": "display_data"
    },
    {
     "data": {
      "application/vnd.jupyter.widget-view+json": {
       "model_id": "",
       "version_major": 2,
       "version_minor": 0
      },
      "text/plain": [
       "FloatProgress(value=0.0, bar_style='info', description='Progress:', layout=Layout(height='25px', width='50%'),…"
      ]
     },
     "metadata": {},
     "output_type": "display_data"
    },
    {
     "data": {
      "image/png": "[encoded data removed]",
      "text/plain": [
       "<IPython.core.display.Image object>"
      ]
     },
     "metadata": {},
     "output_type": "display_data"
    }
   ],
   "source": [
    "plt.imshow(world_map, cmap=plt.get_cmap(\"inferno\"))\n",
    "%matplot plt"
   ]
  },
  {
   "cell_type": "code",
   "execution_count": null,
   "id": "b8477cd0-1ca0-4697-8afa-5d1b87758b89",
   "metadata": {},
   "outputs": [],
   "source": []
  }
 ],
 "metadata": {
  "kernelspec": {
   "display_name": "PySpark",
   "language": "python",
   "name": "pysparkkernel"
  },
  "language_info": {
   "codemirror_mode": {
    "name": "python",
    "version": 3
   },
   "file_extension": ".py",
   "mimetype": "text/x-python",
   "name": "pyspark",
   "pygments_lexer": "python3"
  }
 },
 "nbformat": 4,
 "nbformat_minor": 5
}
