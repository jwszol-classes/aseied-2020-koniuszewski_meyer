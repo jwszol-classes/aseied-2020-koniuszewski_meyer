{
 "cells": [
  {
   "cell_type": "code",
   "execution_count": 1,
   "id": "a8b6eb40-0654-4c59-bfac-87d63017b897",
   "metadata": {
    "execution": {
     "iopub.execute_input": "2022-09-15T20:10:10.658829Z",
     "iopub.status.busy": "2022-09-15T20:10:10.658549Z",
     "iopub.status.idle": "2022-09-15T20:10:13.837491Z",
     "shell.execute_reply": "2022-09-15T20:10:13.836864Z",
     "shell.execute_reply.started": "2022-09-15T20:10:10.658759Z"
    }
   },
   "outputs": [
    {
     "name": "stdout",
     "output_type": "stream",
     "text": [
      "Defaulting to user installation because normal site-packages is not writeable\n",
      "Requirement already satisfied: numpy in /mnt/notebook-env/lib/python3.7/site-packages (1.21.5)\n",
      "Defaulting to user installation because normal site-packages is not writeable\n",
      "Requirement already satisfied: requests in /mnt/notebook-env/lib/python3.7/site-packages (2.27.1)\n",
      "Requirement already satisfied: certifi>=2017.4.17 in /mnt/notebook-env/lib/python3.7/site-packages (from requests) (2021.10.8)\n",
      "Requirement already satisfied: charset-normalizer~=2.0.0 in /mnt/notebook-env/lib/python3.7/site-packages (from requests) (2.0.4)\n",
      "Requirement already satisfied: idna<4,>=2.5 in /mnt/notebook-env/lib/python3.7/site-packages (from requests) (3.3)\n",
      "Requirement already satisfied: urllib3<1.27,>=1.21.1 in /mnt/notebook-env/lib/python3.7/site-packages (from requests) (1.25.11)\n",
      "Defaulting to user installation because normal site-packages is not writeable\n",
      "Requirement already satisfied: matplotlib in /home/emr-notebook/.local/lib/python3.7/site-packages (3.5.3)\n",
      "Requirement already satisfied: pillow>=6.2.0 in /mnt/notebook-env/lib/python3.7/site-packages (from matplotlib) (9.0.1)\n",
      "Requirement already satisfied: python-dateutil>=2.7 in /mnt/notebook-env/lib/python3.7/site-packages (from matplotlib) (2.8.2)\n",
      "Requirement already satisfied: packaging>=20.0 in /mnt/notebook-env/lib/python3.7/site-packages (from matplotlib) (21.3)\n",
      "Requirement already satisfied: numpy>=1.17 in /mnt/notebook-env/lib/python3.7/site-packages (from matplotlib) (1.21.5)\n",
      "Requirement already satisfied: pyparsing>=2.2.1 in /mnt/notebook-env/lib/python3.7/site-packages (from matplotlib) (3.0.4)\n",
      "Requirement already satisfied: fonttools>=4.22.0 in /home/emr-notebook/.local/lib/python3.7/site-packages (from matplotlib) (4.37.2)\n",
      "Requirement already satisfied: kiwisolver>=1.0.1 in /home/emr-notebook/.local/lib/python3.7/site-packages (from matplotlib) (1.4.4)\n",
      "Requirement already satisfied: cycler>=0.10 in /home/emr-notebook/.local/lib/python3.7/site-packages (from matplotlib) (0.11.0)\n",
      "Requirement already satisfied: typing-extensions in /mnt/notebook-env/lib/python3.7/site-packages (from kiwisolver>=1.0.1->matplotlib) (4.1.1)\n",
      "Requirement already satisfied: six>=1.5 in /mnt/notebook-env/lib/python3.7/site-packages (from python-dateutil>=2.7->matplotlib) (1.16.0)\n"
     ]
    }
   ],
   "source": [
    "import sys\n",
    "!{sys.executable} -m pip install numpy\n",
    "!{sys.executable} -m pip install requests\n",
    "!{sys.executable} -m pip install matplotlib"
   ]
  },
  {
   "cell_type": "code",
   "execution_count": 2,
   "id": "1f0885e7-db04-49d4-82ef-332f5ecbe089",
   "metadata": {
    "execution": {
     "iopub.execute_input": "2022-09-15T20:10:18.690519Z",
     "iopub.status.busy": "2022-09-15T20:10:18.690284Z",
     "iopub.status.idle": "2022-09-15T20:10:19.451385Z",
     "shell.execute_reply": "2022-09-15T20:10:19.450477Z",
     "shell.execute_reply.started": "2022-09-15T20:10:18.690492Z"
    }
   },
   "outputs": [],
   "source": [
    "import numpy as np\n",
    "import requests\n",
    "import matplotlib.pyplot as plt\n",
    "from io import BytesIO\n",
    "from itertools import product\n",
    "from PIL import Image\n",
    "from typing import Tuple, List\n",
    "from collections import namedtuple\n",
    "from time import time"
   ]
  },
  {
   "cell_type": "code",
   "execution_count": 3,
   "id": "7cdc255a-282e-4e79-a9d2-b8d6cb1be859",
   "metadata": {
    "execution": {
     "iopub.execute_input": "2022-09-15T20:10:27.685128Z",
     "iopub.status.busy": "2022-09-15T20:10:27.684905Z",
     "iopub.status.idle": "2022-09-15T20:10:27.689980Z",
     "shell.execute_reply": "2022-09-15T20:10:27.689401Z",
     "shell.execute_reply.started": "2022-09-15T20:10:27.685103Z"
    }
   },
   "outputs": [],
   "source": [
    "Tile = namedtuple(\"Tile\", (\"zoom\", \"x\", \"y\"))\n",
    "\n",
    "TEMP_DIR = \"data\"\n",
    "DATASET_URL_FORMAT = \"https://s3.amazonaws.com/elevation-tiles-prod/terrarium\"\n",
    "ZOOM = 5\n",
    "BOUNDS = (72.0, -168.0, -54.0, -25.0)\n",
    "TILE_WIDTH = 256\n",
    "TILE_HEIGHT = 256\n",
    "CHANNELS_NUM = 3\n",
    "RED_CHANNEL_MULTIPLIER = 256\n",
    "GREEN_CHANNEL_MULTIPLIER = 1\n",
    "BLUE_CHANNEL_MULTIPLIER = 1/256\n",
    "INCREMENT_OFFSET = 32768\n",
    "GRADIENT_GROUPS = {\n",
    "    0: 2,\n",
    "    1: 10,\n",
    "    2: 50,\n",
    "    3: 150,\n",
    "    4: 500,\n",
    "    5: 1500\n",
    "}"
   ]
  },
  {
   "cell_type": "code",
   "execution_count": 4,
   "id": "279172cb-397c-42d2-b93b-446ee8d845ad",
   "metadata": {
    "execution": {
     "iopub.execute_input": "2022-09-15T20:10:41.500810Z",
     "iopub.status.busy": "2022-09-15T20:10:41.500591Z",
     "iopub.status.idle": "2022-09-15T20:10:41.506131Z",
     "shell.execute_reply": "2022-09-15T20:10:41.505437Z",
     "shell.execute_reply.started": "2022-09-15T20:10:41.500787Z"
    }
   },
   "outputs": [],
   "source": [
    "def mercator(lat: float, lon: float, zoom: int) -> Tuple[int, int, int]:\n",
    "    \"\"\"Convert latitude, longitude to z/x/y tile coordinate at given zoom.\"\"\"\n",
    "    # convert to radians\n",
    "    x1, y1 = lon * np.pi / 180, lat * np.pi / 180\n",
    "\n",
    "    # project to mercator\n",
    "    x2, y2 = x1, np.log(np.tan(0.25 * np.pi + 0.5 * y1))\n",
    "\n",
    "    # transform to tile space\n",
    "    tiles, diameter = 2 ** zoom, 2 * np.pi\n",
    "    x3, y3 = int(tiles * (x2 + np.pi) / diameter), int(tiles * (np.pi - y2) / diameter)\n",
    "\n",
    "    return zoom, x3, y3"
   ]
  },
  {
   "cell_type": "code",
   "execution_count": 5,
   "id": "0c9ee2c7-0c61-4555-a176-c96487f9eaf9",
   "metadata": {
    "execution": {
     "iopub.execute_input": "2022-09-15T20:10:50.452395Z",
     "iopub.status.busy": "2022-09-15T20:10:50.452168Z",
     "iopub.status.idle": "2022-09-15T20:10:50.458042Z",
     "shell.execute_reply": "2022-09-15T20:10:50.457299Z",
     "shell.execute_reply.started": "2022-09-15T20:10:50.452370Z"
    }
   },
   "outputs": [],
   "source": [
    "def get_tiles(zoom: int, lat1: float, lon1: float, lat2: float, lon2: float) -> List[Tile]:\n",
    "    ''' Convert geographic bounds into a list of tile coordinates at given zoom.'''\n",
    "    # convert to geographic bounding box\n",
    "    minlat, minlon = min(lat1, lat2), min(lon1, lon2)\n",
    "    maxlat, maxlon = max(lat1, lat2), max(lon1, lon2)\n",
    "\n",
    "    # convert to tile-space bounding box\n",
    "    _, xmin, ymin = mercator(maxlat, minlon, zoom)\n",
    "    _, xmax, ymax = mercator(minlat, maxlon, zoom)\n",
    "\n",
    "    # generate a list of tiles\n",
    "    xs, ys = range(xmin, xmax+1), range(ymin, ymax+1)\n",
    "    tiles = [Tile(zoom, x, y) for (y, x) in product(ys, xs)]\n",
    "\n",
    "    return tiles"
   ]
  },
  {
   "cell_type": "code",
   "execution_count": 6,
   "id": "48239af1-a195-41a0-8acd-6a613ccfdfb3",
   "metadata": {
    "execution": {
     "iopub.execute_input": "2022-09-15T20:10:59.471519Z",
     "iopub.status.busy": "2022-09-15T20:10:59.471260Z",
     "iopub.status.idle": "2022-09-15T20:10:59.475736Z",
     "shell.execute_reply": "2022-09-15T20:10:59.475092Z",
     "shell.execute_reply.started": "2022-09-15T20:10:59.471492Z"
    }
   },
   "outputs": [],
   "source": [
    "def download(output_dir: str, tiles: List[Tile], verbose=True) -> list:\n",
    "  '''Downloads map tiles'''\n",
    "  data = []\n",
    "  for tile in tiles:\n",
    "    if verbose:\n",
    "      print(f\"Downloading tile - zoom: {tile.zoom}, x: {tile.x}, y: {tile.y}\")\n",
    "      \n",
    "    response = requests.get(f\"{DATASET_URL_FORMAT}/{tile.zoom}/{tile.x}/{tile.y}.png\")\n",
    "    data.append(Image.open(BytesIO(response.content)))\n",
    "\n",
    "  return data"
   ]
  },
  {
   "cell_type": "code",
   "execution_count": 7,
   "id": "ead4c171-eb99-417f-b9a8-968053279dca",
   "metadata": {
    "execution": {
     "iopub.execute_input": "2022-09-15T20:11:06.269988Z",
     "iopub.status.busy": "2022-09-15T20:11:06.269760Z",
     "iopub.status.idle": "2022-09-15T20:11:06.274160Z",
     "shell.execute_reply": "2022-09-15T20:11:06.273464Z",
     "shell.execute_reply.started": "2022-09-15T20:11:06.269966Z"
    }
   },
   "outputs": [],
   "source": [
    "def calculate_elevation(rgb: Tuple[int, int, int]) -> float:\n",
    "  '''Calculates elevation on certain pixel'''\n",
    "  elevation = rgb[0]*RED_CHANNEL_MULTIPLIER + rgb[1]*GREEN_CHANNEL_MULTIPLIER + rgb[2]*BLUE_CHANNEL_MULTIPLIER - INCREMENT_OFFSET\n",
    "  return elevation if elevation > 0 else 0"
   ]
  },
  {
   "cell_type": "code",
   "execution_count": 8,
   "id": "6e38227f-a4cc-4743-8d91-499ace5d0c19",
   "metadata": {
    "execution": {
     "iopub.execute_input": "2022-09-15T20:11:13.748205Z",
     "iopub.status.busy": "2022-09-15T20:11:13.747721Z",
     "iopub.status.idle": "2022-09-15T20:11:13.752501Z",
     "shell.execute_reply": "2022-09-15T20:11:13.751779Z",
     "shell.execute_reply.started": "2022-09-15T20:11:13.748164Z"
    }
   },
   "outputs": [],
   "source": [
    "def get_elevation(tile: np.ndarray) -> np.ndarray:\n",
    "  '''Calculates elevation for whole map tile'''\n",
    "  return np.array([list(map(calculate_elevation, row)) for row in tile])"
   ]
  },
  {
   "cell_type": "code",
   "execution_count": 9,
   "id": "17cc1181-2026-4c3b-a7f8-ca2b3e571a8b",
   "metadata": {
    "execution": {
     "iopub.execute_input": "2022-09-15T20:11:25.050766Z",
     "iopub.status.busy": "2022-09-15T20:11:25.050533Z",
     "iopub.status.idle": "2022-09-15T20:11:25.054567Z",
     "shell.execute_reply": "2022-09-15T20:11:25.053887Z",
     "shell.execute_reply.started": "2022-09-15T20:11:25.050742Z"
    }
   },
   "outputs": [],
   "source": [
    "def match_to_group(elevation: float) -> int:\n",
    "  '''Matches pixel elevation to one of 6 groups'''\n",
    "  for group_id, elevation_treshold in GRADIENT_GROUPS.items():\n",
    "    if elevation < elevation_treshold:\n",
    "      return int(group_id)\n",
    "\n",
    "match_to_group_vectorize = np.vectorize(match_to_group)"
   ]
  },
  {
   "cell_type": "code",
   "execution_count": 10,
   "id": "bc8da52c-023f-4d7c-9e9a-f5d9a86bbb62",
   "metadata": {
    "execution": {
     "iopub.execute_input": "2022-09-15T20:11:31.088988Z",
     "iopub.status.busy": "2022-09-15T20:11:31.088726Z",
     "iopub.status.idle": "2022-09-15T20:11:31.092488Z",
     "shell.execute_reply": "2022-09-15T20:11:31.091753Z",
     "shell.execute_reply.started": "2022-09-15T20:11:31.088950Z"
    }
   },
   "outputs": [],
   "source": [
    "def group_elevation(tile: np.ndarray) -> np.ndarray:\n",
    "  '''Groups tile elevations'''\n",
    "  return match_to_group_vectorize(tile)"
   ]
  },
  {
   "cell_type": "code",
   "execution_count": 13,
   "id": "59758c3d-5dc5-4639-8dc7-f4a7fd839517",
   "metadata": {
    "execution": {
     "iopub.execute_input": "2022-09-15T20:12:24.861554Z",
     "iopub.status.busy": "2022-09-15T20:12:24.861228Z",
     "iopub.status.idle": "2022-09-15T20:12:24.866097Z",
     "shell.execute_reply": "2022-09-15T20:12:24.865492Z",
     "shell.execute_reply.started": "2022-09-15T20:12:24.861514Z"
    },
    "tags": []
   },
   "outputs": [],
   "source": [
    "def process_tile(tile: np.ndarray) -> np.ndarray:\n",
    "  '''Performs all calculations on tile and returns grouped tile'''\n",
    "  elevation_tile = get_elevation(tile)\n",
    "  grad_tile = np.abs(np.gradient(elevation_tile, axis=0))\n",
    "  return group_elevation(grad_tile)"
   ]
  },
  {
   "cell_type": "code",
   "execution_count": 12,
   "id": "636b0299-6548-40be-a842-a8511aeab623",
   "metadata": {
    "execution": {
     "iopub.execute_input": "2022-09-15T20:11:45.824189Z",
     "iopub.status.busy": "2022-09-15T20:11:45.823955Z",
     "iopub.status.idle": "2022-09-15T20:11:54.371753Z",
     "shell.execute_reply": "2022-09-15T20:11:54.370992Z",
     "shell.execute_reply.started": "2022-09-15T20:11:45.824164Z"
    }
   },
   "outputs": [
    {
     "name": "stdout",
     "output_type": "stream",
     "text": [
      "Downloading tile - zoom: 5, x: 1, y: 6\n",
      "Downloading tile - zoom: 5, x: 2, y: 6\n",
      "Downloading tile - zoom: 5, x: 3, y: 6\n",
      "Downloading tile - zoom: 5, x: 4, y: 6\n",
      "Downloading tile - zoom: 5, x: 5, y: 6\n",
      "Downloading tile - zoom: 5, x: 6, y: 6\n",
      "Downloading tile - zoom: 5, x: 7, y: 6\n",
      "Downloading tile - zoom: 5, x: 8, y: 6\n",
      "Downloading tile - zoom: 5, x: 9, y: 6\n",
      "Downloading tile - zoom: 5, x: 10, y: 6\n",
      "Downloading tile - zoom: 5, x: 11, y: 6\n",
      "Downloading tile - zoom: 5, x: 12, y: 6\n",
      "Downloading tile - zoom: 5, x: 13, y: 6\n",
      "Downloading tile - zoom: 5, x: 1, y: 7\n",
      "Downloading tile - zoom: 5, x: 2, y: 7\n",
      "Downloading tile - zoom: 5, x: 3, y: 7\n",
      "Downloading tile - zoom: 5, x: 4, y: 7\n",
      "Downloading tile - zoom: 5, x: 5, y: 7\n",
      "Downloading tile - zoom: 5, x: 6, y: 7\n",
      "Downloading tile - zoom: 5, x: 7, y: 7\n",
      "Downloading tile - zoom: 5, x: 8, y: 7\n",
      "Downloading tile - zoom: 5, x: 9, y: 7\n",
      "Downloading tile - zoom: 5, x: 10, y: 7\n",
      "Downloading tile - zoom: 5, x: 11, y: 7\n",
      "Downloading tile - zoom: 5, x: 12, y: 7\n",
      "Downloading tile - zoom: 5, x: 13, y: 7\n",
      "Downloading tile - zoom: 5, x: 1, y: 8\n",
      "Downloading tile - zoom: 5, x: 2, y: 8\n",
      "Downloading tile - zoom: 5, x: 3, y: 8\n",
      "Downloading tile - zoom: 5, x: 4, y: 8\n",
      "Downloading tile - zoom: 5, x: 5, y: 8\n",
      "Downloading tile - zoom: 5, x: 6, y: 8\n",
      "Downloading tile - zoom: 5, x: 7, y: 8\n",
      "Downloading tile - zoom: 5, x: 8, y: 8\n",
      "Downloading tile - zoom: 5, x: 9, y: 8\n",
      "Downloading tile - zoom: 5, x: 10, y: 8\n",
      "Downloading tile - zoom: 5, x: 11, y: 8\n",
      "Downloading tile - zoom: 5, x: 12, y: 8\n",
      "Downloading tile - zoom: 5, x: 13, y: 8\n",
      "Downloading tile - zoom: 5, x: 1, y: 9\n",
      "Downloading tile - zoom: 5, x: 2, y: 9\n",
      "Downloading tile - zoom: 5, x: 3, y: 9\n",
      "Downloading tile - zoom: 5, x: 4, y: 9\n",
      "Downloading tile - zoom: 5, x: 5, y: 9\n",
      "Downloading tile - zoom: 5, x: 6, y: 9\n",
      "Downloading tile - zoom: 5, x: 7, y: 9\n",
      "Downloading tile - zoom: 5, x: 8, y: 9\n",
      "Downloading tile - zoom: 5, x: 9, y: 9\n",
      "Downloading tile - zoom: 5, x: 10, y: 9\n",
      "Downloading tile - zoom: 5, x: 11, y: 9\n",
      "Downloading tile - zoom: 5, x: 12, y: 9\n",
      "Downloading tile - zoom: 5, x: 13, y: 9\n",
      "Downloading tile - zoom: 5, x: 1, y: 10\n",
      "Downloading tile - zoom: 5, x: 2, y: 10\n",
      "Downloading tile - zoom: 5, x: 3, y: 10\n",
      "Downloading tile - zoom: 5, x: 4, y: 10\n",
      "Downloading tile - zoom: 5, x: 5, y: 10\n",
      "Downloading tile - zoom: 5, x: 6, y: 10\n",
      "Downloading tile - zoom: 5, x: 7, y: 10\n",
      "Downloading tile - zoom: 5, x: 8, y: 10\n",
      "Downloading tile - zoom: 5, x: 9, y: 10\n",
      "Downloading tile - zoom: 5, x: 10, y: 10\n",
      "Downloading tile - zoom: 5, x: 11, y: 10\n",
      "Downloading tile - zoom: 5, x: 12, y: 10\n",
      "Downloading tile - zoom: 5, x: 13, y: 10\n",
      "Downloading tile - zoom: 5, x: 1, y: 11\n",
      "Downloading tile - zoom: 5, x: 2, y: 11\n",
      "Downloading tile - zoom: 5, x: 3, y: 11\n",
      "Downloading tile - zoom: 5, x: 4, y: 11\n",
      "Downloading tile - zoom: 5, x: 5, y: 11\n",
      "Downloading tile - zoom: 5, x: 6, y: 11\n",
      "Downloading tile - zoom: 5, x: 7, y: 11\n",
      "Downloading tile - zoom: 5, x: 8, y: 11\n",
      "Downloading tile - zoom: 5, x: 9, y: 11\n",
      "Downloading tile - zoom: 5, x: 10, y: 11\n",
      "Downloading tile - zoom: 5, x: 11, y: 11\n",
      "Downloading tile - zoom: 5, x: 12, y: 11\n",
      "Downloading tile - zoom: 5, x: 13, y: 11\n",
      "Downloading tile - zoom: 5, x: 1, y: 12\n",
      "Downloading tile - zoom: 5, x: 2, y: 12\n",
      "Downloading tile - zoom: 5, x: 3, y: 12\n",
      "Downloading tile - zoom: 5, x: 4, y: 12\n",
      "Downloading tile - zoom: 5, x: 5, y: 12\n",
      "Downloading tile - zoom: 5, x: 6, y: 12\n",
      "Downloading tile - zoom: 5, x: 7, y: 12\n",
      "Downloading tile - zoom: 5, x: 8, y: 12\n",
      "Downloading tile - zoom: 5, x: 9, y: 12\n",
      "Downloading tile - zoom: 5, x: 10, y: 12\n",
      "Downloading tile - zoom: 5, x: 11, y: 12\n",
      "Downloading tile - zoom: 5, x: 12, y: 12\n",
      "Downloading tile - zoom: 5, x: 13, y: 12\n",
      "Downloading tile - zoom: 5, x: 1, y: 13\n",
      "Downloading tile - zoom: 5, x: 2, y: 13\n",
      "Downloading tile - zoom: 5, x: 3, y: 13\n",
      "Downloading tile - zoom: 5, x: 4, y: 13\n",
      "Downloading tile - zoom: 5, x: 5, y: 13\n",
      "Downloading tile - zoom: 5, x: 6, y: 13\n",
      "Downloading tile - zoom: 5, x: 7, y: 13\n",
      "Downloading tile - zoom: 5, x: 8, y: 13\n",
      "Downloading tile - zoom: 5, x: 9, y: 13\n",
      "Downloading tile - zoom: 5, x: 10, y: 13\n",
      "Downloading tile - zoom: 5, x: 11, y: 13\n",
      "Downloading tile - zoom: 5, x: 12, y: 13\n",
      "Downloading tile - zoom: 5, x: 13, y: 13\n",
      "Downloading tile - zoom: 5, x: 1, y: 14\n",
      "Downloading tile - zoom: 5, x: 2, y: 14\n",
      "Downloading tile - zoom: 5, x: 3, y: 14\n",
      "Downloading tile - zoom: 5, x: 4, y: 14\n",
      "Downloading tile - zoom: 5, x: 5, y: 14\n",
      "Downloading tile - zoom: 5, x: 6, y: 14\n",
      "Downloading tile - zoom: 5, x: 7, y: 14\n",
      "Downloading tile - zoom: 5, x: 8, y: 14\n",
      "Downloading tile - zoom: 5, x: 9, y: 14\n",
      "Downloading tile - zoom: 5, x: 10, y: 14\n",
      "Downloading tile - zoom: 5, x: 11, y: 14\n",
      "Downloading tile - zoom: 5, x: 12, y: 14\n",
      "Downloading tile - zoom: 5, x: 13, y: 14\n",
      "Downloading tile - zoom: 5, x: 1, y: 15\n",
      "Downloading tile - zoom: 5, x: 2, y: 15\n",
      "Downloading tile - zoom: 5, x: 3, y: 15\n",
      "Downloading tile - zoom: 5, x: 4, y: 15\n",
      "Downloading tile - zoom: 5, x: 5, y: 15\n",
      "Downloading tile - zoom: 5, x: 6, y: 15\n",
      "Downloading tile - zoom: 5, x: 7, y: 15\n",
      "Downloading tile - zoom: 5, x: 8, y: 15\n",
      "Downloading tile - zoom: 5, x: 9, y: 15\n",
      "Downloading tile - zoom: 5, x: 10, y: 15\n",
      "Downloading tile - zoom: 5, x: 11, y: 15\n",
      "Downloading tile - zoom: 5, x: 12, y: 15\n",
      "Downloading tile - zoom: 5, x: 13, y: 15\n",
      "Downloading tile - zoom: 5, x: 1, y: 16\n",
      "Downloading tile - zoom: 5, x: 2, y: 16\n",
      "Downloading tile - zoom: 5, x: 3, y: 16\n",
      "Downloading tile - zoom: 5, x: 4, y: 16\n",
      "Downloading tile - zoom: 5, x: 5, y: 16\n",
      "Downloading tile - zoom: 5, x: 6, y: 16\n",
      "Downloading tile - zoom: 5, x: 7, y: 16\n",
      "Downloading tile - zoom: 5, x: 8, y: 16\n",
      "Downloading tile - zoom: 5, x: 9, y: 16\n",
      "Downloading tile - zoom: 5, x: 10, y: 16\n",
      "Downloading tile - zoom: 5, x: 11, y: 16\n",
      "Downloading tile - zoom: 5, x: 12, y: 16\n",
      "Downloading tile - zoom: 5, x: 13, y: 16\n",
      "Downloading tile - zoom: 5, x: 1, y: 17\n",
      "Downloading tile - zoom: 5, x: 2, y: 17\n",
      "Downloading tile - zoom: 5, x: 3, y: 17\n",
      "Downloading tile - zoom: 5, x: 4, y: 17\n",
      "Downloading tile - zoom: 5, x: 5, y: 17\n",
      "Downloading tile - zoom: 5, x: 6, y: 17\n",
      "Downloading tile - zoom: 5, x: 7, y: 17\n",
      "Downloading tile - zoom: 5, x: 8, y: 17\n",
      "Downloading tile - zoom: 5, x: 9, y: 17\n",
      "Downloading tile - zoom: 5, x: 10, y: 17\n",
      "Downloading tile - zoom: 5, x: 11, y: 17\n",
      "Downloading tile - zoom: 5, x: 12, y: 17\n",
      "Downloading tile - zoom: 5, x: 13, y: 17\n",
      "Downloading tile - zoom: 5, x: 1, y: 18\n",
      "Downloading tile - zoom: 5, x: 2, y: 18\n",
      "Downloading tile - zoom: 5, x: 3, y: 18\n",
      "Downloading tile - zoom: 5, x: 4, y: 18\n",
      "Downloading tile - zoom: 5, x: 5, y: 18\n",
      "Downloading tile - zoom: 5, x: 6, y: 18\n",
      "Downloading tile - zoom: 5, x: 7, y: 18\n",
      "Downloading tile - zoom: 5, x: 8, y: 18\n",
      "Downloading tile - zoom: 5, x: 9, y: 18\n",
      "Downloading tile - zoom: 5, x: 10, y: 18\n",
      "Downloading tile - zoom: 5, x: 11, y: 18\n",
      "Downloading tile - zoom: 5, x: 12, y: 18\n",
      "Downloading tile - zoom: 5, x: 13, y: 18\n",
      "Downloading tile - zoom: 5, x: 1, y: 19\n",
      "Downloading tile - zoom: 5, x: 2, y: 19\n",
      "Downloading tile - zoom: 5, x: 3, y: 19\n",
      "Downloading tile - zoom: 5, x: 4, y: 19\n",
      "Downloading tile - zoom: 5, x: 5, y: 19\n",
      "Downloading tile - zoom: 5, x: 6, y: 19\n",
      "Downloading tile - zoom: 5, x: 7, y: 19\n",
      "Downloading tile - zoom: 5, x: 8, y: 19\n",
      "Downloading tile - zoom: 5, x: 9, y: 19\n",
      "Downloading tile - zoom: 5, x: 10, y: 19\n",
      "Downloading tile - zoom: 5, x: 11, y: 19\n",
      "Downloading tile - zoom: 5, x: 12, y: 19\n",
      "Downloading tile - zoom: 5, x: 13, y: 19\n",
      "Downloading tile - zoom: 5, x: 1, y: 20\n",
      "Downloading tile - zoom: 5, x: 2, y: 20\n",
      "Downloading tile - zoom: 5, x: 3, y: 20\n",
      "Downloading tile - zoom: 5, x: 4, y: 20\n",
      "Downloading tile - zoom: 5, x: 5, y: 20\n",
      "Downloading tile - zoom: 5, x: 6, y: 20\n",
      "Downloading tile - zoom: 5, x: 7, y: 20\n",
      "Downloading tile - zoom: 5, x: 8, y: 20\n",
      "Downloading tile - zoom: 5, x: 9, y: 20\n",
      "Downloading tile - zoom: 5, x: 10, y: 20\n",
      "Downloading tile - zoom: 5, x: 11, y: 20\n",
      "Downloading tile - zoom: 5, x: 12, y: 20\n",
      "Downloading tile - zoom: 5, x: 13, y: 20\n",
      "Downloading tile - zoom: 5, x: 1, y: 21\n",
      "Downloading tile - zoom: 5, x: 2, y: 21\n",
      "Downloading tile - zoom: 5, x: 3, y: 21\n",
      "Downloading tile - zoom: 5, x: 4, y: 21\n",
      "Downloading tile - zoom: 5, x: 5, y: 21\n",
      "Downloading tile - zoom: 5, x: 6, y: 21\n",
      "Downloading tile - zoom: 5, x: 7, y: 21\n",
      "Downloading tile - zoom: 5, x: 8, y: 21\n",
      "Downloading tile - zoom: 5, x: 9, y: 21\n",
      "Downloading tile - zoom: 5, x: 10, y: 21\n",
      "Downloading tile - zoom: 5, x: 11, y: 21\n",
      "Downloading tile - zoom: 5, x: 12, y: 21\n",
      "Downloading tile - zoom: 5, x: 13, y: 21\n"
     ]
    }
   ],
   "source": [
    "tiles = get_tiles(ZOOM, *BOUNDS)\n",
    "data = download(output_dir=TEMP_DIR, tiles=tiles)"
   ]
  },
  {
   "cell_type": "code",
   "execution_count": 18,
   "id": "2acf61b0-2f80-436b-b7f0-1cba5f7577d2",
   "metadata": {
    "execution": {
     "iopub.execute_input": "2022-09-15T20:15:09.041365Z",
     "iopub.status.busy": "2022-09-15T20:15:09.041136Z",
     "iopub.status.idle": "2022-09-15T20:15:09.044620Z",
     "shell.execute_reply": "2022-09-15T20:15:09.043879Z",
     "shell.execute_reply.started": "2022-09-15T20:15:09.041339Z"
    },
    "tags": []
   },
   "outputs": [],
   "source": [
    "start = time()"
   ]
  },
  {
   "cell_type": "code",
   "execution_count": 19,
   "id": "450f1a24-6436-45fa-85ad-ae145bf0a8ea",
   "metadata": {
    "execution": {
     "iopub.execute_input": "2022-09-15T20:15:09.199711Z",
     "iopub.status.busy": "2022-09-15T20:15:09.199488Z",
     "iopub.status.idle": "2022-09-15T20:15:09.204211Z",
     "shell.execute_reply": "2022-09-15T20:15:09.203373Z",
     "shell.execute_reply.started": "2022-09-15T20:15:09.199686Z"
    },
    "tags": []
   },
   "outputs": [],
   "source": [
    "x_range = max(tiles, key=lambda tile: tile.x).x-min(tiles, key=lambda tile: tile.x).x + 1\n",
    "y_range = max(tiles, key=lambda tile: tile.y).y-min(tiles, key=lambda tile: tile.y).y + 1"
   ]
  },
  {
   "cell_type": "code",
   "execution_count": 20,
   "id": "b5883eb0-d947-4321-afa4-1d5a8c922bfd",
   "metadata": {
    "execution": {
     "iopub.execute_input": "2022-09-15T20:15:09.397423Z",
     "iopub.status.busy": "2022-09-15T20:15:09.397160Z",
     "iopub.status.idle": "2022-09-15T20:17:19.170347Z",
     "shell.execute_reply": "2022-09-15T20:17:19.169427Z",
     "shell.execute_reply.started": "2022-09-15T20:15:09.397381Z"
    },
    "tags": []
   },
   "outputs": [],
   "source": [
    "world_map = np.zeros((y_range*TILE_HEIGHT, x_range*TILE_WIDTH))\n",
    "\n",
    "for x in range(x_range):\n",
    "  for y in range(y_range):\n",
    "    world_map[y*TILE_HEIGHT:(y+1)*TILE_HEIGHT, x*TILE_WIDTH:(x+1)*TILE_WIDTH] = process_tile(np.asarray(data[y*x_range + x]))"
   ]
  },
  {
   "cell_type": "code",
   "execution_count": 21,
   "id": "304fc5ed-764e-4a06-852a-73d0abcfc127",
   "metadata": {
    "execution": {
     "iopub.execute_input": "2022-09-15T20:17:19.172039Z",
     "iopub.status.busy": "2022-09-15T20:17:19.171804Z",
     "iopub.status.idle": "2022-09-15T20:17:19.178394Z",
     "shell.execute_reply": "2022-09-15T20:17:19.177606Z",
     "shell.execute_reply.started": "2022-09-15T20:17:19.172007Z"
    },
    "tags": []
   },
   "outputs": [],
   "source": [
    "result = time() - start"
   ]
  },
  {
   "cell_type": "code",
   "execution_count": 22,
   "id": "0ddc6657-a5d3-4e1d-b40c-2584ad4b7808",
   "metadata": {
    "execution": {
     "iopub.execute_input": "2022-09-15T20:17:19.180194Z",
     "iopub.status.busy": "2022-09-15T20:17:19.179890Z",
     "iopub.status.idle": "2022-09-15T20:17:19.193771Z",
     "shell.execute_reply": "2022-09-15T20:17:19.193117Z",
     "shell.execute_reply.started": "2022-09-15T20:17:19.180160Z"
    },
    "tags": []
   },
   "outputs": [
    {
     "data": {
      "text/plain": [
       "130.1310544013977"
      ]
     },
     "execution_count": 22,
     "metadata": {},
     "output_type": "execute_result"
    }
   ],
   "source": [
    "result"
   ]
  },
  {
   "cell_type": "code",
   "execution_count": null,
   "id": "a6a46744-4b4d-47ab-a15a-dbb68259ce35",
   "metadata": {
    "execution": {
     "iopub.execute_input": "2022-09-15T20:17:30.182704Z",
     "iopub.status.busy": "2022-09-15T20:17:30.182481Z",
     "iopub.status.idle": "2022-09-15T20:17:31.467366Z",
     "shell.execute_reply": "2022-09-15T20:17:31.466695Z",
     "shell.execute_reply.started": "2022-09-15T20:17:30.182681Z"
    },
    "tags": [],
    "pycharm": {
     "is_executing": true,
     "name": "#%%\n"
    }
   },
   "outputs": [],
   "source": [
    "plt.imshow(world_map, cmap=plt.get_cmap(\"inferno\"))\n",
    "cbar = plt.colorbar()\n",
    "cbar.set_ticks([0.5, 1, 2, 3, 4, 5])\n",
    "cbar.set_ticklabels([\"2\", \"10\", \"50\", \"150\", \"500\", \"1500\"])\n",
    "plt.show()"
   ]
  }
 ],
 "metadata": {
  "kernelspec": {
   "display_name": "Python 3",
   "language": "python",
   "name": "python3"
  },
  "language_info": {
   "codemirror_mode": {
    "name": "ipython",
    "version": 3
   },
   "file_extension": ".py",
   "mimetype": "text/x-python",
   "name": "python",
   "nbconvert_exporter": "python",
   "pygments_lexer": "ipython3",
   "version": "3.7.7"
  }
 },
 "nbformat": 4,
 "nbformat_minor": 5
}